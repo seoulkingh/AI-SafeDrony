{
 "cells": [
  {
   "cell_type": "markdown",
   "metadata": {
    "id": "HWCgbUkDonkb"
   },
   "source": [
    "#### **1단계: 환경 설정 및 데이터/모델 준비**\n",
    "\n",
    "Colab 런타임은 **GPU**로 설정하는 것을 권장"
   ]
  },
  {
   "cell_type": "code",
   "execution_count": 2,
   "metadata": {
    "colab": {
     "base_uri": "https://localhost:8080/"
    },
    "collapsed": true,
    "executionInfo": {
     "elapsed": 154291,
     "status": "ok",
     "timestamp": 1751616668789,
     "user": {
      "displayName": "k im",
      "userId": "08581733427727695003"
     },
     "user_tz": -540
    },
    "id": "0OysWLo9u9n9",
    "outputId": "962b3c17-8f22-41d2-c678-cd26b8a5e416"
   },
   "outputs": [
    {
     "name": "stdout",
     "output_type": "stream",
     "text": [
      "Collecting ultralytics\n",
      "  Downloading ultralytics-8.3.162-py3-none-any.whl.metadata (37 kB)\n",
      "Requirement already satisfied: tensorflow in /usr/local/lib/python3.11/dist-packages (2.18.0)\n",
      "Collecting tensorflow\n",
      "  Downloading tensorflow-2.19.0-cp311-cp311-manylinux_2_17_x86_64.manylinux2014_x86_64.whl.metadata (4.1 kB)\n",
      "Requirement already satisfied: torch in /usr/local/lib/python3.11/dist-packages (2.6.0+cu124)\n",
      "Collecting torch\n",
      "  Downloading torch-2.7.1-cp311-cp311-manylinux_2_28_x86_64.whl.metadata (29 kB)\n",
      "Requirement already satisfied: numpy>=1.23.0 in /usr/local/lib/python3.11/dist-packages (from ultralytics) (2.0.2)\n",
      "Requirement already satisfied: matplotlib>=3.3.0 in /usr/local/lib/python3.11/dist-packages (from ultralytics) (3.10.0)\n",
      "Requirement already satisfied: opencv-python>=4.6.0 in /usr/local/lib/python3.11/dist-packages (from ultralytics) (4.11.0.86)\n",
      "Requirement already satisfied: pillow>=7.1.2 in /usr/local/lib/python3.11/dist-packages (from ultralytics) (11.2.1)\n",
      "Requirement already satisfied: pyyaml>=5.3.1 in /usr/local/lib/python3.11/dist-packages (from ultralytics) (6.0.2)\n",
      "Requirement already satisfied: requests>=2.23.0 in /usr/local/lib/python3.11/dist-packages (from ultralytics) (2.32.3)\n",
      "Requirement already satisfied: scipy>=1.4.1 in /usr/local/lib/python3.11/dist-packages (from ultralytics) (1.15.3)\n",
      "Requirement already satisfied: torchvision>=0.9.0 in /usr/local/lib/python3.11/dist-packages (from ultralytics) (0.21.0+cu124)\n",
      "Requirement already satisfied: tqdm>=4.64.0 in /usr/local/lib/python3.11/dist-packages (from ultralytics) (4.67.1)\n",
      "Requirement already satisfied: psutil in /usr/local/lib/python3.11/dist-packages (from ultralytics) (5.9.5)\n",
      "Requirement already satisfied: py-cpuinfo in /usr/local/lib/python3.11/dist-packages (from ultralytics) (9.0.0)\n",
      "Requirement already satisfied: pandas>=1.1.4 in /usr/local/lib/python3.11/dist-packages (from ultralytics) (2.2.2)\n",
      "Collecting ultralytics-thop>=2.0.0 (from ultralytics)\n",
      "  Downloading ultralytics_thop-2.0.14-py3-none-any.whl.metadata (9.4 kB)\n",
      "Requirement already satisfied: absl-py>=1.0.0 in /usr/local/lib/python3.11/dist-packages (from tensorflow) (1.4.0)\n",
      "Requirement already satisfied: astunparse>=1.6.0 in /usr/local/lib/python3.11/dist-packages (from tensorflow) (1.6.3)\n",
      "Requirement already satisfied: flatbuffers>=24.3.25 in /usr/local/lib/python3.11/dist-packages (from tensorflow) (25.2.10)\n",
      "Requirement already satisfied: gast!=0.5.0,!=0.5.1,!=0.5.2,>=0.2.1 in /usr/local/lib/python3.11/dist-packages (from tensorflow) (0.6.0)\n",
      "Requirement already satisfied: google-pasta>=0.1.1 in /usr/local/lib/python3.11/dist-packages (from tensorflow) (0.2.0)\n",
      "Requirement already satisfied: libclang>=13.0.0 in /usr/local/lib/python3.11/dist-packages (from tensorflow) (18.1.1)\n",
      "Requirement already satisfied: opt-einsum>=2.3.2 in /usr/local/lib/python3.11/dist-packages (from tensorflow) (3.4.0)\n",
      "Requirement already satisfied: packaging in /usr/local/lib/python3.11/dist-packages (from tensorflow) (24.2)\n",
      "Requirement already satisfied: protobuf!=4.21.0,!=4.21.1,!=4.21.2,!=4.21.3,!=4.21.4,!=4.21.5,<6.0.0dev,>=3.20.3 in /usr/local/lib/python3.11/dist-packages (from tensorflow) (5.29.5)\n",
      "Requirement already satisfied: setuptools in /usr/local/lib/python3.11/dist-packages (from tensorflow) (75.2.0)\n",
      "Requirement already satisfied: six>=1.12.0 in /usr/local/lib/python3.11/dist-packages (from tensorflow) (1.17.0)\n",
      "Requirement already satisfied: termcolor>=1.1.0 in /usr/local/lib/python3.11/dist-packages (from tensorflow) (3.1.0)\n",
      "Requirement already satisfied: typing-extensions>=3.6.6 in /usr/local/lib/python3.11/dist-packages (from tensorflow) (4.14.0)\n",
      "Requirement already satisfied: wrapt>=1.11.0 in /usr/local/lib/python3.11/dist-packages (from tensorflow) (1.17.2)\n",
      "Requirement already satisfied: grpcio<2.0,>=1.24.3 in /usr/local/lib/python3.11/dist-packages (from tensorflow) (1.73.1)\n",
      "Collecting tensorboard~=2.19.0 (from tensorflow)\n",
      "  Downloading tensorboard-2.19.0-py3-none-any.whl.metadata (1.8 kB)\n",
      "Requirement already satisfied: keras>=3.5.0 in /usr/local/lib/python3.11/dist-packages (from tensorflow) (3.8.0)\n",
      "Requirement already satisfied: h5py>=3.11.0 in /usr/local/lib/python3.11/dist-packages (from tensorflow) (3.14.0)\n",
      "Collecting ml-dtypes<1.0.0,>=0.5.1 (from tensorflow)\n",
      "  Downloading ml_dtypes-0.5.1-cp311-cp311-manylinux_2_17_x86_64.manylinux2014_x86_64.whl.metadata (21 kB)\n",
      "Requirement already satisfied: tensorflow-io-gcs-filesystem>=0.23.1 in /usr/local/lib/python3.11/dist-packages (from tensorflow) (0.37.1)\n",
      "Requirement already satisfied: filelock in /usr/local/lib/python3.11/dist-packages (from torch) (3.18.0)\n",
      "Collecting sympy>=1.13.3 (from torch)\n",
      "  Downloading sympy-1.14.0-py3-none-any.whl.metadata (12 kB)\n",
      "Requirement already satisfied: networkx in /usr/local/lib/python3.11/dist-packages (from torch) (3.5)\n",
      "Requirement already satisfied: jinja2 in /usr/local/lib/python3.11/dist-packages (from torch) (3.1.6)\n",
      "Requirement already satisfied: fsspec in /usr/local/lib/python3.11/dist-packages (from torch) (2025.3.2)\n",
      "Collecting nvidia-cuda-nvrtc-cu12==12.6.77 (from torch)\n",
      "  Downloading nvidia_cuda_nvrtc_cu12-12.6.77-py3-none-manylinux2014_x86_64.whl.metadata (1.5 kB)\n",
      "Collecting nvidia-cuda-runtime-cu12==12.6.77 (from torch)\n",
      "  Downloading nvidia_cuda_runtime_cu12-12.6.77-py3-none-manylinux2014_x86_64.manylinux_2_17_x86_64.whl.metadata (1.5 kB)\n",
      "Collecting nvidia-cuda-cupti-cu12==12.6.80 (from torch)\n",
      "  Downloading nvidia_cuda_cupti_cu12-12.6.80-py3-none-manylinux2014_x86_64.manylinux_2_17_x86_64.whl.metadata (1.6 kB)\n",
      "Collecting nvidia-cudnn-cu12==9.5.1.17 (from torch)\n",
      "  Downloading nvidia_cudnn_cu12-9.5.1.17-py3-none-manylinux_2_28_x86_64.whl.metadata (1.6 kB)\n",
      "Collecting nvidia-cublas-cu12==12.6.4.1 (from torch)\n",
      "  Downloading nvidia_cublas_cu12-12.6.4.1-py3-none-manylinux2014_x86_64.manylinux_2_17_x86_64.whl.metadata (1.5 kB)\n",
      "Collecting nvidia-cufft-cu12==11.3.0.4 (from torch)\n",
      "  Downloading nvidia_cufft_cu12-11.3.0.4-py3-none-manylinux2014_x86_64.manylinux_2_17_x86_64.whl.metadata (1.5 kB)\n",
      "Collecting nvidia-curand-cu12==10.3.7.77 (from torch)\n",
      "  Downloading nvidia_curand_cu12-10.3.7.77-py3-none-manylinux2014_x86_64.manylinux_2_17_x86_64.whl.metadata (1.5 kB)\n",
      "Collecting nvidia-cusolver-cu12==11.7.1.2 (from torch)\n",
      "  Downloading nvidia_cusolver_cu12-11.7.1.2-py3-none-manylinux2014_x86_64.manylinux_2_17_x86_64.whl.metadata (1.6 kB)\n",
      "Collecting nvidia-cusparse-cu12==12.5.4.2 (from torch)\n",
      "  Downloading nvidia_cusparse_cu12-12.5.4.2-py3-none-manylinux2014_x86_64.manylinux_2_17_x86_64.whl.metadata (1.6 kB)\n",
      "Collecting nvidia-cusparselt-cu12==0.6.3 (from torch)\n",
      "  Downloading nvidia_cusparselt_cu12-0.6.3-py3-none-manylinux2014_x86_64.whl.metadata (6.8 kB)\n",
      "Collecting nvidia-nccl-cu12==2.26.2 (from torch)\n",
      "  Downloading nvidia_nccl_cu12-2.26.2-py3-none-manylinux2014_x86_64.manylinux_2_17_x86_64.whl.metadata (2.0 kB)\n",
      "Collecting nvidia-nvtx-cu12==12.6.77 (from torch)\n",
      "  Downloading nvidia_nvtx_cu12-12.6.77-py3-none-manylinux2014_x86_64.manylinux_2_17_x86_64.whl.metadata (1.6 kB)\n",
      "Collecting nvidia-nvjitlink-cu12==12.6.85 (from torch)\n",
      "  Downloading nvidia_nvjitlink_cu12-12.6.85-py3-none-manylinux2010_x86_64.manylinux_2_12_x86_64.whl.metadata (1.5 kB)\n",
      "Collecting nvidia-cufile-cu12==1.11.1.6 (from torch)\n",
      "  Downloading nvidia_cufile_cu12-1.11.1.6-py3-none-manylinux2014_x86_64.manylinux_2_17_x86_64.whl.metadata (1.5 kB)\n",
      "Collecting triton==3.3.1 (from torch)\n",
      "  Downloading triton-3.3.1-cp311-cp311-manylinux_2_27_x86_64.manylinux_2_28_x86_64.whl.metadata (1.5 kB)\n",
      "Requirement already satisfied: wheel<1.0,>=0.23.0 in /usr/local/lib/python3.11/dist-packages (from astunparse>=1.6.0->tensorflow) (0.45.1)\n",
      "Requirement already satisfied: rich in /usr/local/lib/python3.11/dist-packages (from keras>=3.5.0->tensorflow) (13.9.4)\n",
      "Requirement already satisfied: namex in /usr/local/lib/python3.11/dist-packages (from keras>=3.5.0->tensorflow) (0.1.0)\n",
      "Requirement already satisfied: optree in /usr/local/lib/python3.11/dist-packages (from keras>=3.5.0->tensorflow) (0.16.0)\n",
      "Requirement already satisfied: contourpy>=1.0.1 in /usr/local/lib/python3.11/dist-packages (from matplotlib>=3.3.0->ultralytics) (1.3.2)\n",
      "Requirement already satisfied: cycler>=0.10 in /usr/local/lib/python3.11/dist-packages (from matplotlib>=3.3.0->ultralytics) (0.12.1)\n",
      "Requirement already satisfied: fonttools>=4.22.0 in /usr/local/lib/python3.11/dist-packages (from matplotlib>=3.3.0->ultralytics) (4.58.4)\n",
      "Requirement already satisfied: kiwisolver>=1.3.1 in /usr/local/lib/python3.11/dist-packages (from matplotlib>=3.3.0->ultralytics) (1.4.8)\n",
      "Requirement already satisfied: pyparsing>=2.3.1 in /usr/local/lib/python3.11/dist-packages (from matplotlib>=3.3.0->ultralytics) (3.2.3)\n",
      "Requirement already satisfied: python-dateutil>=2.7 in /usr/local/lib/python3.11/dist-packages (from matplotlib>=3.3.0->ultralytics) (2.9.0.post0)\n",
      "Requirement already satisfied: pytz>=2020.1 in /usr/local/lib/python3.11/dist-packages (from pandas>=1.1.4->ultralytics) (2025.2)\n",
      "Requirement already satisfied: tzdata>=2022.7 in /usr/local/lib/python3.11/dist-packages (from pandas>=1.1.4->ultralytics) (2025.2)\n",
      "Requirement already satisfied: charset-normalizer<4,>=2 in /usr/local/lib/python3.11/dist-packages (from requests>=2.23.0->ultralytics) (3.4.2)\n",
      "Requirement already satisfied: idna<4,>=2.5 in /usr/local/lib/python3.11/dist-packages (from requests>=2.23.0->ultralytics) (3.10)\n",
      "Requirement already satisfied: urllib3<3,>=1.21.1 in /usr/local/lib/python3.11/dist-packages (from requests>=2.23.0->ultralytics) (2.4.0)\n",
      "Requirement already satisfied: certifi>=2017.4.17 in /usr/local/lib/python3.11/dist-packages (from requests>=2.23.0->ultralytics) (2025.6.15)\n",
      "Requirement already satisfied: mpmath<1.4,>=1.1.0 in /usr/local/lib/python3.11/dist-packages (from sympy>=1.13.3->torch) (1.3.0)\n",
      "Requirement already satisfied: markdown>=2.6.8 in /usr/local/lib/python3.11/dist-packages (from tensorboard~=2.19.0->tensorflow) (3.8.2)\n",
      "Requirement already satisfied: tensorboard-data-server<0.8.0,>=0.7.0 in /usr/local/lib/python3.11/dist-packages (from tensorboard~=2.19.0->tensorflow) (0.7.2)\n",
      "Requirement already satisfied: werkzeug>=1.0.1 in /usr/local/lib/python3.11/dist-packages (from tensorboard~=2.19.0->tensorflow) (3.1.3)\n",
      "Collecting nvidia-cuda-nvrtc-cu12==12.4.127 (from torch)\n",
      "  Downloading nvidia_cuda_nvrtc_cu12-12.4.127-py3-none-manylinux2014_x86_64.whl.metadata (1.5 kB)\n",
      "Collecting nvidia-cuda-runtime-cu12==12.4.127 (from torch)\n",
      "  Downloading nvidia_cuda_runtime_cu12-12.4.127-py3-none-manylinux2014_x86_64.whl.metadata (1.5 kB)\n",
      "Collecting nvidia-cuda-cupti-cu12==12.4.127 (from torch)\n",
      "  Downloading nvidia_cuda_cupti_cu12-12.4.127-py3-none-manylinux2014_x86_64.whl.metadata (1.6 kB)\n",
      "Collecting nvidia-cudnn-cu12==9.1.0.70 (from torch)\n",
      "  Downloading nvidia_cudnn_cu12-9.1.0.70-py3-none-manylinux2014_x86_64.whl.metadata (1.6 kB)\n",
      "Collecting nvidia-cublas-cu12 (from nvidia-cudnn-cu12==9.5.1.17->torch)\n",
      "  Downloading nvidia_cublas_cu12-12.4.5.8-py3-none-manylinux2014_x86_64.whl.metadata (1.5 kB)\n",
      "Collecting nvidia-cufft-cu12==11.2.1.3 (from torch)\n",
      "  Downloading nvidia_cufft_cu12-11.2.1.3-py3-none-manylinux2014_x86_64.whl.metadata (1.5 kB)\n",
      "Collecting nvidia-curand-cu12==10.3.5.147 (from torch)\n",
      "  Downloading nvidia_curand_cu12-10.3.5.147-py3-none-manylinux2014_x86_64.whl.metadata (1.5 kB)\n",
      "Collecting nvidia-cusolver-cu12==11.6.1.9 (from torch)\n",
      "  Downloading nvidia_cusolver_cu12-11.6.1.9-py3-none-manylinux2014_x86_64.whl.metadata (1.6 kB)\n",
      "Collecting nvidia-cusparse-cu12 (from nvidia-cusolver-cu12==11.7.1.2->torch)\n",
      "  Downloading nvidia_cusparse_cu12-12.3.1.170-py3-none-manylinux2014_x86_64.whl.metadata (1.6 kB)\n",
      "Requirement already satisfied: nvidia-cusparselt-cu12==0.6.2 in /usr/local/lib/python3.11/dist-packages (from torch) (0.6.2)\n",
      "Requirement already satisfied: nvidia-nccl-cu12==2.21.5 in /usr/local/lib/python3.11/dist-packages (from torch) (2.21.5)\n",
      "Requirement already satisfied: nvidia-nvtx-cu12==12.4.127 in /usr/local/lib/python3.11/dist-packages (from torch) (12.4.127)\n",
      "Collecting nvidia-nvjitlink-cu12 (from nvidia-cufft-cu12==11.3.0.4->torch)\n",
      "  Downloading nvidia_nvjitlink_cu12-12.4.127-py3-none-manylinux2014_x86_64.whl.metadata (1.5 kB)\n",
      "Requirement already satisfied: triton==3.2.0 in /usr/local/lib/python3.11/dist-packages (from torch) (3.2.0)\n",
      "Requirement already satisfied: sympy==1.13.1 in /usr/local/lib/python3.11/dist-packages (from torch) (1.13.1)\n",
      "Requirement already satisfied: MarkupSafe>=2.0 in /usr/local/lib/python3.11/dist-packages (from jinja2->torch) (3.0.2)\n",
      "Requirement already satisfied: markdown-it-py>=2.2.0 in /usr/local/lib/python3.11/dist-packages (from rich->keras>=3.5.0->tensorflow) (3.0.0)\n",
      "Requirement already satisfied: pygments<3.0.0,>=2.13.0 in /usr/local/lib/python3.11/dist-packages (from rich->keras>=3.5.0->tensorflow) (2.19.2)\n",
      "Requirement already satisfied: mdurl~=0.1 in /usr/local/lib/python3.11/dist-packages (from markdown-it-py>=2.2.0->rich->keras>=3.5.0->tensorflow) (0.1.2)\n",
      "Downloading ultralytics-8.3.162-py3-none-any.whl (1.0 MB)\n",
      "\u001b[2K   \u001b[90m━━━━━━━━━━━━━━━━━━━━━━━━━━━━━━━━━━━━━━━━\u001b[0m \u001b[32m1.0/1.0 MB\u001b[0m \u001b[31m59.0 MB/s\u001b[0m eta \u001b[36m0:00:00\u001b[0m\n",
      "\u001b[?25hDownloading tensorflow-2.19.0-cp311-cp311-manylinux_2_17_x86_64.manylinux2014_x86_64.whl (644.9 MB)\n",
      "\u001b[2K   \u001b[90m━━━━━━━━━━━━━━━━━━━━━━━━━━━━━━━━━━━━━━━━\u001b[0m \u001b[32m644.9/644.9 MB\u001b[0m \u001b[31m2.3 MB/s\u001b[0m eta \u001b[36m0:00:00\u001b[0m\n",
      "\u001b[?25hDownloading ml_dtypes-0.5.1-cp311-cp311-manylinux_2_17_x86_64.manylinux2014_x86_64.whl (4.7 MB)\n",
      "\u001b[2K   \u001b[90m━━━━━━━━━━━━━━━━━━━━━━━━━━━━━━━━━━━━━━━━\u001b[0m \u001b[32m4.7/4.7 MB\u001b[0m \u001b[31m113.3 MB/s\u001b[0m eta \u001b[36m0:00:00\u001b[0m\n",
      "\u001b[?25hDownloading tensorboard-2.19.0-py3-none-any.whl (5.5 MB)\n",
      "\u001b[2K   \u001b[90m━━━━━━━━━━━━━━━━━━━━━━━━━━━━━━━━━━━━━━━━\u001b[0m \u001b[32m5.5/5.5 MB\u001b[0m \u001b[31m117.0 MB/s\u001b[0m eta \u001b[36m0:00:00\u001b[0m\n",
      "\u001b[?25hDownloading nvidia_cublas_cu12-12.4.5.8-py3-none-manylinux2014_x86_64.whl (363.4 MB)\n",
      "\u001b[2K   \u001b[90m━━━━━━━━━━━━━━━━━━━━━━━━━━━━━━━━━━━━━━━━\u001b[0m \u001b[32m363.4/363.4 MB\u001b[0m \u001b[31m4.8 MB/s\u001b[0m eta \u001b[36m0:00:00\u001b[0m\n",
      "\u001b[?25hDownloading nvidia_cuda_cupti_cu12-12.4.127-py3-none-manylinux2014_x86_64.whl (13.8 MB)\n",
      "\u001b[2K   \u001b[90m━━━━━━━━━━━━━━━━━━━━━━━━━━━━━━━━━━━━━━━━\u001b[0m \u001b[32m13.8/13.8 MB\u001b[0m \u001b[31m93.0 MB/s\u001b[0m eta \u001b[36m0:00:00\u001b[0m\n",
      "\u001b[?25hDownloading nvidia_cuda_nvrtc_cu12-12.4.127-py3-none-manylinux2014_x86_64.whl (24.6 MB)\n",
      "\u001b[2K   \u001b[90m━━━━━━━━━━━━━━━━━━━━━━━━━━━━━━━━━━━━━━━━\u001b[0m \u001b[32m24.6/24.6 MB\u001b[0m \u001b[31m62.2 MB/s\u001b[0m eta \u001b[36m0:00:00\u001b[0m\n",
      "\u001b[?25hDownloading nvidia_cuda_runtime_cu12-12.4.127-py3-none-manylinux2014_x86_64.whl (883 kB)\n",
      "\u001b[2K   \u001b[90m━━━━━━━━━━━━━━━━━━━━━━━━━━━━━━━━━━━━━━━━\u001b[0m \u001b[32m883.7/883.7 kB\u001b[0m \u001b[31m49.2 MB/s\u001b[0m eta \u001b[36m0:00:00\u001b[0m\n",
      "\u001b[?25hDownloading nvidia_cudnn_cu12-9.1.0.70-py3-none-manylinux2014_x86_64.whl (664.8 MB)\n",
      "\u001b[2K   \u001b[90m━━━━━━━━━━━━━━━━━━━━━━━━━━━━━━━━━━━━━━━━\u001b[0m \u001b[32m664.8/664.8 MB\u001b[0m \u001b[31m2.0 MB/s\u001b[0m eta \u001b[36m0:00:00\u001b[0m\n",
      "\u001b[?25hDownloading nvidia_cufft_cu12-11.2.1.3-py3-none-manylinux2014_x86_64.whl (211.5 MB)\n",
      "\u001b[2K   \u001b[90m━━━━━━━━━━━━━━━━━━━━━━━━━━━━━━━━━━━━━━━━\u001b[0m \u001b[32m211.5/211.5 MB\u001b[0m \u001b[31m5.1 MB/s\u001b[0m eta \u001b[36m0:00:00\u001b[0m\n",
      "\u001b[?25hDownloading nvidia_curand_cu12-10.3.5.147-py3-none-manylinux2014_x86_64.whl (56.3 MB)\n",
      "\u001b[2K   \u001b[90m━━━━━━━━━━━━━━━━━━━━━━━━━━━━━━━━━━━━━━━━\u001b[0m \u001b[32m56.3/56.3 MB\u001b[0m \u001b[31m12.4 MB/s\u001b[0m eta \u001b[36m0:00:00\u001b[0m\n",
      "\u001b[?25hDownloading nvidia_cusolver_cu12-11.6.1.9-py3-none-manylinux2014_x86_64.whl (127.9 MB)\n",
      "\u001b[2K   \u001b[90m━━━━━━━━━━━━━━━━━━━━━━━━━━━━━━━━━━━━━━━━\u001b[0m \u001b[32m127.9/127.9 MB\u001b[0m \u001b[31m7.5 MB/s\u001b[0m eta \u001b[36m0:00:00\u001b[0m\n",
      "\u001b[?25hDownloading nvidia_cusparse_cu12-12.3.1.170-py3-none-manylinux2014_x86_64.whl (207.5 MB)\n",
      "\u001b[2K   \u001b[90m━━━━━━━━━━━━━━━━━━━━━━━━━━━━━━━━━━━━━━━━\u001b[0m \u001b[32m207.5/207.5 MB\u001b[0m \u001b[31m5.8 MB/s\u001b[0m eta \u001b[36m0:00:00\u001b[0m\n",
      "\u001b[?25hDownloading nvidia_nvjitlink_cu12-12.4.127-py3-none-manylinux2014_x86_64.whl (21.1 MB)\n",
      "\u001b[2K   \u001b[90m━━━━━━━━━━━━━━━━━━━━━━━━━━━━━━━━━━━━━━━━\u001b[0m \u001b[32m21.1/21.1 MB\u001b[0m \u001b[31m101.3 MB/s\u001b[0m eta \u001b[36m0:00:00\u001b[0m\n",
      "\u001b[?25hDownloading ultralytics_thop-2.0.14-py3-none-any.whl (26 kB)\n",
      "Installing collected packages: nvidia-nvjitlink-cu12, nvidia-curand-cu12, nvidia-cufft-cu12, nvidia-cuda-runtime-cu12, nvidia-cuda-nvrtc-cu12, nvidia-cuda-cupti-cu12, nvidia-cublas-cu12, ml-dtypes, tensorboard, nvidia-cusparse-cu12, nvidia-cudnn-cu12, nvidia-cusolver-cu12, tensorflow, ultralytics-thop, ultralytics\n",
      "  Attempting uninstall: nvidia-nvjitlink-cu12\n",
      "    Found existing installation: nvidia-nvjitlink-cu12 12.5.82\n",
      "    Uninstalling nvidia-nvjitlink-cu12-12.5.82:\n",
      "      Successfully uninstalled nvidia-nvjitlink-cu12-12.5.82\n",
      "  Attempting uninstall: nvidia-curand-cu12\n",
      "    Found existing installation: nvidia-curand-cu12 10.3.6.82\n",
      "    Uninstalling nvidia-curand-cu12-10.3.6.82:\n",
      "      Successfully uninstalled nvidia-curand-cu12-10.3.6.82\n",
      "  Attempting uninstall: nvidia-cufft-cu12\n",
      "    Found existing installation: nvidia-cufft-cu12 11.2.3.61\n",
      "    Uninstalling nvidia-cufft-cu12-11.2.3.61:\n",
      "      Successfully uninstalled nvidia-cufft-cu12-11.2.3.61\n",
      "  Attempting uninstall: nvidia-cuda-runtime-cu12\n",
      "    Found existing installation: nvidia-cuda-runtime-cu12 12.5.82\n",
      "    Uninstalling nvidia-cuda-runtime-cu12-12.5.82:\n",
      "      Successfully uninstalled nvidia-cuda-runtime-cu12-12.5.82\n",
      "  Attempting uninstall: nvidia-cuda-nvrtc-cu12\n",
      "    Found existing installation: nvidia-cuda-nvrtc-cu12 12.5.82\n",
      "    Uninstalling nvidia-cuda-nvrtc-cu12-12.5.82:\n",
      "      Successfully uninstalled nvidia-cuda-nvrtc-cu12-12.5.82\n",
      "  Attempting uninstall: nvidia-cuda-cupti-cu12\n",
      "    Found existing installation: nvidia-cuda-cupti-cu12 12.5.82\n",
      "    Uninstalling nvidia-cuda-cupti-cu12-12.5.82:\n",
      "      Successfully uninstalled nvidia-cuda-cupti-cu12-12.5.82\n",
      "  Attempting uninstall: nvidia-cublas-cu12\n",
      "    Found existing installation: nvidia-cublas-cu12 12.5.3.2\n",
      "    Uninstalling nvidia-cublas-cu12-12.5.3.2:\n",
      "      Successfully uninstalled nvidia-cublas-cu12-12.5.3.2\n",
      "  Attempting uninstall: ml-dtypes\n",
      "    Found existing installation: ml-dtypes 0.4.1\n",
      "    Uninstalling ml-dtypes-0.4.1:\n",
      "      Successfully uninstalled ml-dtypes-0.4.1\n",
      "  Attempting uninstall: tensorboard\n",
      "    Found existing installation: tensorboard 2.18.0\n",
      "    Uninstalling tensorboard-2.18.0:\n",
      "      Successfully uninstalled tensorboard-2.18.0\n",
      "  Attempting uninstall: nvidia-cusparse-cu12\n",
      "    Found existing installation: nvidia-cusparse-cu12 12.5.1.3\n",
      "    Uninstalling nvidia-cusparse-cu12-12.5.1.3:\n",
      "      Successfully uninstalled nvidia-cusparse-cu12-12.5.1.3\n",
      "  Attempting uninstall: nvidia-cudnn-cu12\n",
      "    Found existing installation: nvidia-cudnn-cu12 9.3.0.75\n",
      "    Uninstalling nvidia-cudnn-cu12-9.3.0.75:\n",
      "      Successfully uninstalled nvidia-cudnn-cu12-9.3.0.75\n",
      "  Attempting uninstall: nvidia-cusolver-cu12\n",
      "    Found existing installation: nvidia-cusolver-cu12 11.6.3.83\n",
      "    Uninstalling nvidia-cusolver-cu12-11.6.3.83:\n",
      "      Successfully uninstalled nvidia-cusolver-cu12-11.6.3.83\n",
      "  Attempting uninstall: tensorflow\n",
      "    Found existing installation: tensorflow 2.18.0\n",
      "    Uninstalling tensorflow-2.18.0:\n",
      "      Successfully uninstalled tensorflow-2.18.0\n",
      "\u001b[31mERROR: pip's dependency resolver does not currently take into account all the packages that are installed. This behaviour is the source of the following dependency conflicts.\n",
      "tensorflow-text 2.18.1 requires tensorflow<2.19,>=2.18.0, but you have tensorflow 2.19.0 which is incompatible.\n",
      "tensorflow-decision-forests 1.11.0 requires tensorflow==2.18.0, but you have tensorflow 2.19.0 which is incompatible.\n",
      "tf-keras 2.18.0 requires tensorflow<2.19,>=2.18, but you have tensorflow 2.19.0 which is incompatible.\u001b[0m\u001b[31m\n",
      "\u001b[0mSuccessfully installed ml-dtypes-0.5.1 nvidia-cublas-cu12-12.4.5.8 nvidia-cuda-cupti-cu12-12.4.127 nvidia-cuda-nvrtc-cu12-12.4.127 nvidia-cuda-runtime-cu12-12.4.127 nvidia-cudnn-cu12-9.1.0.70 nvidia-cufft-cu12-11.2.1.3 nvidia-curand-cu12-10.3.5.147 nvidia-cusolver-cu12-11.6.1.9 nvidia-cusparse-cu12-12.3.1.170 nvidia-nvjitlink-cu12-12.4.127 tensorboard-2.19.0 tensorflow-2.19.0 ultralytics-8.3.162 ultralytics-thop-2.0.14\n"
     ]
    }
   ],
   "source": [
    "!pip install --upgrade ultralytics tensorflow torch"
   ]
  },
  {
   "cell_type": "code",
   "execution_count": null,
   "metadata": {
    "colab": {
     "base_uri": "https://localhost:8080/"
    },
    "executionInfo": {
     "elapsed": 4151,
     "status": "ok",
     "timestamp": 1751540063323,
     "user": {
      "displayName": "k im",
      "userId": "08581733427727695003"
     },
     "user_tz": -540
    },
    "id": "AnpyogjMvEeL",
    "outputId": "c47b2501-fd4f-4cbc-a297-8adfe50cd1c4"
   },
   "outputs": [
    {
     "name": "stdout",
     "output_type": "stream",
     "text": [
      "Ultralytics 8.3.161 🚀 Python-3.11.13 torch-2.6.0+cu124 CUDA:0 (Tesla T4, 15095MiB)\n",
      "Setup complete ✅ (2 CPUs, 12.7 GB RAM, 44.1/112.6 GB disk)\n"
     ]
    }
   ],
   "source": [
    "import ultralytics\n",
    "ultralytics.checks()"
   ]
  },
  {
   "cell_type": "code",
   "execution_count": 3,
   "metadata": {
    "colab": {
     "base_uri": "https://localhost:8080/"
    },
    "collapsed": true,
    "executionInfo": {
     "elapsed": 11641,
     "status": "ok",
     "timestamp": 1751616684188,
     "user": {
      "displayName": "k im",
      "userId": "08581733427727695003"
     },
     "user_tz": -540
    },
    "id": "krC8r25jonkd",
    "outputId": "6142689e-a840-4a37-d3b5-f4601e402688"
   },
   "outputs": [
    {
     "name": "stdout",
     "output_type": "stream",
     "text": [
      "Creating new Ultralytics Settings v0.0.6 file ✅ \n",
      "View Ultralytics Settings with 'yolo settings' or at '/root/.config/Ultralytics/settings.json'\n",
      "Update Settings with 'yolo settings key=value', i.e. 'yolo settings runs_dir=path/to/dir'. For help see https://docs.ultralytics.com/quickstart/#ultralytics-settings.\n",
      "Drive already mounted at /content/drive; to attempt to forcibly remount, call drive.mount(\"/content/drive\", force_remount=True).\n",
      "훈련을 위한 최종 data.yaml 파일을 생성합니다...\n",
      ": /content/drive/MyDrive/hackerton/safe/HardHatDetector/custom_data.yaml\n",
      "--- final_helmet_data.yaml 내용 ---\n",
      "names:\n",
      "- helmet\n",
      "- no-helmet\n",
      "nc: 2\n",
      "test: /content/drive/MyDrive/hackerton/safe/HardHatDetector/test/images\n",
      "train: /content/drive/MyDrive/hackerton/safe/HardHatDetector/train/images\n",
      "val: /content/drive/MyDrive/hackerton/safe/HardHatDetector/valid/images\n",
      "\n",
      "---------------------------------\n",
      "훈련에 사용될 YAML 파일 생성 완료: /content/drive/MyDrive/hackerton/safe/HardHatDetector/custom_data.yaml\n"
     ]
    }
   ],
   "source": [
    "from google.colab import drive\n",
    "from ultralytics import YOLO\n",
    "import matplotlib.pyplot as plt\n",
    "import numpy as np\n",
    "import yaml\n",
    "import os\n",
    "\n",
    "# 구글 드라이브 마운트\n",
    "# 학습 데이터 크기와 결과 유지를 위해 데이터셋을 구글 드라이브에 연결\n",
    "\n",
    "drive.mount('/content/drive')\n",
    "# 3. 데이터셋 경로 및 YAML 경로 변수 설정\n",
    "# 이전에 다운로드하고 압축을 푼 데이터셋의 경로를 사용합니다.\n",
    "DATASET_PATH = \"/content/drive/MyDrive/hackerton/safe/HardHatDetector\"\n",
    "YAML_PATH = \"/content/drive/MyDrive/hackerton/safe/HardHatDetector/data.yaml\" # 경로를 수정한 YAML 파일\n",
    "\n",
    "print(\"훈련을 위한 최종 data.yaml 파일을 생성합니다...\")\n",
    "\n",
    "# 우리가 원하는, 명확한 클래스 이름 리스트를 직접 정의합니다.\n",
    "# Roboflow에서 export한 데이터셋의 클래스 순서와 동일해야 합니다.\n",
    "# (예: Roboflow에서 0=helmet, 1=no-helmet 순서였다면 그대로 유지)\n",
    "class_names = ['helmet', 'no-helmet']\n",
    "num_classes = len(class_names)\n",
    "\n",
    "# 최종 사용할 YAML 데이터 구성\n",
    "custom_data_yaml = {\n",
    "    'train': os.path.abspath(os.path.join(DATASET_PATH, 'train/images')),\n",
    "    'val': os.path.abspath(os.path.join(DATASET_PATH, 'valid/images')),\n",
    "    'test': os.path.abspath(os.path.join(DATASET_PATH, 'test/images')),\n",
    "    'nc': num_classes,\n",
    "    'names': class_names\n",
    "}\n",
    "\n",
    "# 최종 YAML 파일 경로\n",
    "CUSTOM_YAML_PATH = '/content/drive/MyDrive/hackerton/safe/HardHatDetector/custom_data.yaml'\n",
    "\n",
    "# 새로운 YAML 파일로 저장\n",
    "with open(CUSTOM_YAML_PATH, 'w') as f:\n",
    "    yaml.dump(custom_data_yaml, f)\n",
    "\n",
    "print(f\": {CUSTOM_YAML_PATH}\")\n",
    "print(\"--- final_helmet_data.yaml 내용 ---\")\n",
    "with open(CUSTOM_YAML_PATH, 'r') as f:\n",
    "    print(f.read())\n",
    "print(\"---------------------------------\")\n",
    "\n",
    "print(f\"훈련에 사용될 YAML 파일 생성 완료: {CUSTOM_YAML_PATH}\")"
   ]
  },
  {
   "cell_type": "markdown",
   "metadata": {
    "id": "BzzxM6lFonke"
   },
   "source": [
    "#### **2단계: YOLO 모델 훈련**\n",
    "\n",
    "이제 준비된 YAML 파일을 사용하여 모델 훈련을 시작합니다."
   ]
  },
  {
   "cell_type": "code",
   "execution_count": null,
   "metadata": {
    "colab": {
     "base_uri": "https://localhost:8080/"
    },
    "collapsed": true,
    "executionInfo": {
     "elapsed": 5614296,
     "status": "ok",
     "timestamp": 1751531719298,
     "user": {
      "displayName": "k im",
      "userId": "08581733427727695003"
     },
     "user_tz": -540
    },
    "id": "AdOibue_5-F2",
    "outputId": "5f063e09-bcb6-420c-8a38-8a56b8a06f9a"
   },
   "outputs": [
    {
     "name": "stdout",
     "output_type": "stream",
     "text": [
      "Ultralytics 8.3.161 🚀 Python-3.11.13 torch-2.6.0+cu124 CUDA:0 (Tesla T4, 15095MiB)\n",
      "\u001b[34m\u001b[1mengine/trainer: \u001b[0magnostic_nms=False, amp=True, augment=False, auto_augment=randaugment, batch=16, bgr=0.0, box=7.5, cache=False, cfg=None, classes=None, close_mosaic=10, cls=0.5, conf=None, copy_paste=0.0, copy_paste_mode=flip, cos_lr=False, cutmix=0.0, data=/content/drive/MyDrive/hackerton/safe/HardHatDetector/custom_data.yaml, degrees=0.0, deterministic=True, device=None, dfl=1.5, dnn=False, dropout=0.0, dynamic=False, embed=None, epochs=50, erasing=0.4, exist_ok=False, fliplr=0.5, flipud=0.0, format=torchscript, fraction=1.0, freeze=None, half=False, hsv_h=0.015, hsv_s=0.7, hsv_v=0.4, imgsz=640, int8=False, iou=0.7, keras=False, kobj=1.0, line_width=None, lr0=0.001, lrf=0.01, mask_ratio=4, max_det=300, mixup=0.0, mode=train, model=/content/drive/MyDrive/hackerton/safe/HardHatDetector/ptModel/yolo11s.pt, momentum=0.937, mosaic=0.5, multi_scale=False, name=helmet_detection_run_with_augmentation, nbs=64, nms=False, opset=None, optimize=False, optimizer=AdamW, overlap_mask=True, patience=10, perspective=0.0, plots=True, pose=12.0, pretrained=True, profile=False, project=/content/drive/MyDrive/hackerton/safe/HardHatDetector/yolo_results, rect=False, resume=False, retina_masks=False, save=True, save_conf=False, save_crop=False, save_dir=/content/drive/MyDrive/hackerton/safe/HardHatDetector/yolo_results/helmet_detection_run_with_augmentation, save_frames=False, save_json=False, save_period=-1, save_txt=False, scale=0.5, seed=0, shear=0.0, show=False, show_boxes=True, show_conf=True, show_labels=True, simplify=True, single_cls=False, source=None, split=val, stream_buffer=False, task=detect, time=None, tracker=botsort.yaml, translate=0.1, val=True, verbose=True, vid_stride=1, visualize=False, warmup_bias_lr=0.1, warmup_epochs=3.0, warmup_momentum=0.8, weight_decay=0.0005, workers=8, workspace=None\n",
      "Downloading https://ultralytics.com/assets/Arial.ttf to '/root/.config/Ultralytics/Arial.ttf'...\n"
     ]
    },
    {
     "name": "stderr",
     "output_type": "stream",
     "text": [
      "100%|██████████| 755k/755k [00:00<00:00, 100MB/s]"
     ]
    },
    {
     "name": "stdout",
     "output_type": "stream",
     "text": [
      "Overriding model.yaml nc=80 with nc=2\n",
      "\n",
      "                   from  n    params  module                                       arguments                     \n",
      "  0                  -1  1       928  ultralytics.nn.modules.conv.Conv             [3, 32, 3, 2]                 \n",
      "  1                  -1  1     18560  ultralytics.nn.modules.conv.Conv             [32, 64, 3, 2]                \n",
      "  2                  -1  1     26080  ultralytics.nn.modules.block.C3k2            [64, 128, 1, False, 0.25]     \n",
      "  3                  -1  1    147712  ultralytics.nn.modules.conv.Conv             [128, 128, 3, 2]              \n",
      "  4                  -1  1    103360  ultralytics.nn.modules.block.C3k2            [128, 256, 1, False, 0.25]    \n",
      "  5                  -1  1    590336  ultralytics.nn.modules.conv.Conv             [256, 256, 3, 2]              \n",
      "  6                  -1  1    346112  ultralytics.nn.modules.block.C3k2            [256, 256, 1, True]           \n",
      "  7                  -1  1   1180672  ultralytics.nn.modules.conv.Conv             [256, 512, 3, 2]              \n",
      "  8                  -1  1   1380352  ultralytics.nn.modules.block.C3k2            [512, 512, 1, True]           \n",
      "  9                  -1  1    656896  ultralytics.nn.modules.block.SPPF            [512, 512, 5]                 \n",
      " 10                  -1  1    990976  ultralytics.nn.modules.block.C2PSA           [512, 512, 1]                 \n",
      " 11                  -1  1         0  torch.nn.modules.upsampling.Upsample         [None, 2, 'nearest']          \n",
      " 12             [-1, 6]  1         0  ultralytics.nn.modules.conv.Concat           [1]                           \n",
      " 13                  -1  1    443776  ultralytics.nn.modules.block.C3k2            [768, 256, 1, False]          \n",
      " 14                  -1  1         0  torch.nn.modules.upsampling.Upsample         [None, 2, 'nearest']          \n",
      " 15             [-1, 4]  1         0  ultralytics.nn.modules.conv.Concat           [1]                           \n",
      " 16                  -1  1    127680  ultralytics.nn.modules.block.C3k2            [512, 128, 1, False]          \n",
      " 17                  -1  1    147712  ultralytics.nn.modules.conv.Conv             [128, 128, 3, 2]              \n",
      " 18            [-1, 13]  1         0  ultralytics.nn.modules.conv.Concat           [1]                           \n",
      " 19                  -1  1    345472  ultralytics.nn.modules.block.C3k2            [384, 256, 1, False]          \n",
      " 20                  -1  1    590336  ultralytics.nn.modules.conv.Conv             [256, 256, 3, 2]              \n",
      " 21            [-1, 10]  1         0  ultralytics.nn.modules.conv.Concat           [1]                           \n",
      " 22                  -1  1   1511424  ultralytics.nn.modules.block.C3k2            [768, 512, 1, True]           \n"
     ]
    },
    {
     "name": "stderr",
     "output_type": "stream",
     "text": [
      "\n"
     ]
    },
    {
     "name": "stdout",
     "output_type": "stream",
     "text": [
      " 23        [16, 19, 22]  1    820182  ultralytics.nn.modules.head.Detect           [2, [128, 256, 512]]          \n",
      "YOLO11s summary: 181 layers, 9,428,566 parameters, 9,428,550 gradients, 21.6 GFLOPs\n",
      "\n",
      "Transferred 493/499 items from pretrained weights\n",
      "Freezing layer 'model.23.dfl.conv.weight'\n",
      "\u001b[34m\u001b[1mAMP: \u001b[0mrunning Automatic Mixed Precision (AMP) checks...\n",
      "Downloading https://github.com/ultralytics/assets/releases/download/v8.3.0/yolo11n.pt to 'yolo11n.pt'...\n"
     ]
    },
    {
     "name": "stderr",
     "output_type": "stream",
     "text": [
      "100%|██████████| 5.35M/5.35M [00:00<00:00, 360MB/s]\n"
     ]
    },
    {
     "name": "stdout",
     "output_type": "stream",
     "text": [
      "\u001b[34m\u001b[1mAMP: \u001b[0mchecks passed ✅\n",
      "\u001b[34m\u001b[1mtrain: \u001b[0mFast image access ✅ (ping: 0.6±0.2 ms, read: 0.1±0.0 MB/s, size: 52.2 KB)\n"
     ]
    },
    {
     "name": "stderr",
     "output_type": "stream",
     "text": [
      "\u001b[34m\u001b[1mtrain: \u001b[0mScanning /content/drive/MyDrive/hackerton/safe/HardHatDetector/train/labels.cache... 4600 images, 42 backgrounds, 0 corrupt: 100%|██████████| 4600/4600 [00:00<?, ?it/s]"
     ]
    },
    {
     "name": "stdout",
     "output_type": "stream",
     "text": [
      "WARNING ⚠️ Box and segment counts should be equal, but got len(segments) = 3183, len(boxes) = 11306. To resolve this only boxes will be used and all segments will be removed. To avoid this please supply either a detect or segment dataset, not a detect-segment mixed dataset.\n"
     ]
    },
    {
     "name": "stderr",
     "output_type": "stream",
     "text": [
      "\n"
     ]
    },
    {
     "name": "stdout",
     "output_type": "stream",
     "text": [
      "\u001b[34m\u001b[1malbumentations: \u001b[0mBlur(p=0.01, blur_limit=(3, 7)), MedianBlur(p=0.01, blur_limit=(3, 7)), ToGray(p=0.01, method='weighted_average', num_output_channels=3), CLAHE(p=0.01, clip_limit=(1.0, 4.0), tile_grid_size=(8, 8))\n",
      "\u001b[34m\u001b[1mval: \u001b[0mFast image access ✅ (ping: 0.6±0.4 ms, read: 0.0±0.0 MB/s, size: 41.5 KB)\n"
     ]
    },
    {
     "name": "stderr",
     "output_type": "stream",
     "text": [
      "\u001b[34m\u001b[1mval: \u001b[0mScanning /content/drive/MyDrive/hackerton/safe/HardHatDetector/valid/labels.cache... 39 images, 2 backgrounds, 0 corrupt: 100%|██████████| 39/39 [00:00<?, ?it/s]\n"
     ]
    },
    {
     "name": "stdout",
     "output_type": "stream",
     "text": [
      "Plotting labels to /content/drive/MyDrive/hackerton/safe/HardHatDetector/yolo_results/helmet_detection_run_with_augmentation/labels.jpg... \n",
      "\u001b[34m\u001b[1moptimizer:\u001b[0m AdamW(lr=0.001, momentum=0.937) with parameter groups 81 weight(decay=0.0), 88 weight(decay=0.0005), 87 bias(decay=0.0)\n",
      "Image sizes 640 train, 640 val\n",
      "Using 2 dataloader workers\n",
      "Logging results to \u001b[1m/content/drive/MyDrive/hackerton/safe/HardHatDetector/yolo_results/helmet_detection_run_with_augmentation\u001b[0m\n",
      "Starting training for 50 epochs...\n",
      "\n",
      "      Epoch    GPU_mem   box_loss   cls_loss   dfl_loss  Instances       Size\n"
     ]
    },
    {
     "name": "stderr",
     "output_type": "stream",
     "text": [
      "       1/50      4.02G      1.087      1.222      1.258         23        640: 100%|██████████| 288/288 [04:10<00:00,  1.15it/s]\n",
      "                 Class     Images  Instances      Box(P          R      mAP50  mAP50-95): 100%|██████████| 2/2 [00:02<00:00,  1.14s/it]"
     ]
    },
    {
     "name": "stdout",
     "output_type": "stream",
     "text": [
      "                   all         39         69      0.693      0.377      0.463      0.316\n"
     ]
    },
    {
     "name": "stderr",
     "output_type": "stream",
     "text": [
      "\n"
     ]
    },
    {
     "name": "stdout",
     "output_type": "stream",
     "text": [
      "\n",
      "      Epoch    GPU_mem   box_loss   cls_loss   dfl_loss  Instances       Size\n"
     ]
    },
    {
     "name": "stderr",
     "output_type": "stream",
     "text": [
      "       2/50      4.82G     0.9646     0.8538      1.176         29        640: 100%|██████████| 288/288 [01:42<00:00,  2.81it/s]\n",
      "                 Class     Images  Instances      Box(P          R      mAP50  mAP50-95): 100%|██████████| 2/2 [00:00<00:00,  2.75it/s]\n"
     ]
    },
    {
     "name": "stdout",
     "output_type": "stream",
     "text": [
      "                   all         39         69      0.633      0.725      0.661      0.397\n",
      "\n",
      "      Epoch    GPU_mem   box_loss   cls_loss   dfl_loss  Instances       Size\n"
     ]
    },
    {
     "name": "stderr",
     "output_type": "stream",
     "text": [
      "       3/50      4.83G     0.9384     0.7968      1.166         24        640: 100%|██████████| 288/288 [01:45<00:00,  2.73it/s]\n",
      "                 Class     Images  Instances      Box(P          R      mAP50  mAP50-95): 100%|██████████| 2/2 [00:01<00:00,  1.97it/s]"
     ]
    },
    {
     "name": "stdout",
     "output_type": "stream",
     "text": [
      "                   all         39         69      0.651       0.71      0.719       0.49\n"
     ]
    },
    {
     "name": "stderr",
     "output_type": "stream",
     "text": [
      "\n"
     ]
    },
    {
     "name": "stdout",
     "output_type": "stream",
     "text": [
      "\n",
      "      Epoch    GPU_mem   box_loss   cls_loss   dfl_loss  Instances       Size\n"
     ]
    },
    {
     "name": "stderr",
     "output_type": "stream",
     "text": [
      "       4/50      4.83G      0.872     0.7443      1.128         18        640: 100%|██████████| 288/288 [01:44<00:00,  2.76it/s]\n",
      "                 Class     Images  Instances      Box(P          R      mAP50  mAP50-95): 100%|██████████| 2/2 [00:00<00:00,  2.88it/s]"
     ]
    },
    {
     "name": "stdout",
     "output_type": "stream",
     "text": [
      "                   all         39         69      0.873      0.681       0.81      0.597\n"
     ]
    },
    {
     "name": "stderr",
     "output_type": "stream",
     "text": [
      "\n"
     ]
    },
    {
     "name": "stdout",
     "output_type": "stream",
     "text": [
      "\n",
      "      Epoch    GPU_mem   box_loss   cls_loss   dfl_loss  Instances       Size\n"
     ]
    },
    {
     "name": "stderr",
     "output_type": "stream",
     "text": [
      "       5/50      4.83G      0.856     0.7052      1.111         42        640: 100%|██████████| 288/288 [01:44<00:00,  2.76it/s]\n",
      "                 Class     Images  Instances      Box(P          R      mAP50  mAP50-95): 100%|██████████| 2/2 [00:00<00:00,  2.55it/s]"
     ]
    },
    {
     "name": "stdout",
     "output_type": "stream",
     "text": [
      "                   all         39         69      0.866      0.652      0.793      0.584\n"
     ]
    },
    {
     "name": "stderr",
     "output_type": "stream",
     "text": [
      "\n"
     ]
    },
    {
     "name": "stdout",
     "output_type": "stream",
     "text": [
      "\n",
      "      Epoch    GPU_mem   box_loss   cls_loss   dfl_loss  Instances       Size\n"
     ]
    },
    {
     "name": "stderr",
     "output_type": "stream",
     "text": [
      "       6/50      4.83G     0.8113     0.6563      1.096         41        640: 100%|██████████| 288/288 [01:45<00:00,  2.74it/s]\n",
      "                 Class     Images  Instances      Box(P          R      mAP50  mAP50-95): 100%|██████████| 2/2 [00:00<00:00,  2.84it/s]"
     ]
    },
    {
     "name": "stdout",
     "output_type": "stream",
     "text": [
      "                   all         39         69      0.761      0.691      0.744      0.534\n"
     ]
    },
    {
     "name": "stderr",
     "output_type": "stream",
     "text": [
      "\n"
     ]
    },
    {
     "name": "stdout",
     "output_type": "stream",
     "text": [
      "\n",
      "      Epoch    GPU_mem   box_loss   cls_loss   dfl_loss  Instances       Size\n"
     ]
    },
    {
     "name": "stderr",
     "output_type": "stream",
     "text": [
      "       7/50      4.86G     0.7727     0.6251      1.074         35        640: 100%|██████████| 288/288 [01:42<00:00,  2.81it/s]\n",
      "                 Class     Images  Instances      Box(P          R      mAP50  mAP50-95): 100%|██████████| 2/2 [00:00<00:00,  3.12it/s]"
     ]
    },
    {
     "name": "stdout",
     "output_type": "stream",
     "text": [
      "                   all         39         69      0.805      0.797      0.829      0.616\n"
     ]
    },
    {
     "name": "stderr",
     "output_type": "stream",
     "text": [
      "\n"
     ]
    },
    {
     "name": "stdout",
     "output_type": "stream",
     "text": [
      "\n",
      "      Epoch    GPU_mem   box_loss   cls_loss   dfl_loss  Instances       Size\n"
     ]
    },
    {
     "name": "stderr",
     "output_type": "stream",
     "text": [
      "       8/50       4.9G     0.7334     0.5963      1.057         25        640: 100%|██████████| 288/288 [01:47<00:00,  2.69it/s]\n",
      "                 Class     Images  Instances      Box(P          R      mAP50  mAP50-95): 100%|██████████| 2/2 [00:00<00:00,  3.07it/s]"
     ]
    },
    {
     "name": "stdout",
     "output_type": "stream",
     "text": [
      "                   all         39         69       0.85      0.754      0.853      0.663\n"
     ]
    },
    {
     "name": "stderr",
     "output_type": "stream",
     "text": [
      "\n"
     ]
    },
    {
     "name": "stdout",
     "output_type": "stream",
     "text": [
      "\n",
      "      Epoch    GPU_mem   box_loss   cls_loss   dfl_loss  Instances       Size\n"
     ]
    },
    {
     "name": "stderr",
     "output_type": "stream",
     "text": [
      "       9/50      4.91G     0.7207     0.5715      1.042         21        640: 100%|██████████| 288/288 [01:44<00:00,  2.77it/s]\n",
      "                 Class     Images  Instances      Box(P          R      mAP50  mAP50-95): 100%|██████████| 2/2 [00:00<00:00,  3.20it/s]"
     ]
    },
    {
     "name": "stdout",
     "output_type": "stream",
     "text": [
      "                   all         39         69      0.884      0.638      0.783      0.633\n"
     ]
    },
    {
     "name": "stderr",
     "output_type": "stream",
     "text": [
      "\n"
     ]
    },
    {
     "name": "stdout",
     "output_type": "stream",
     "text": [
      "\n",
      "      Epoch    GPU_mem   box_loss   cls_loss   dfl_loss  Instances       Size\n"
     ]
    },
    {
     "name": "stderr",
     "output_type": "stream",
     "text": [
      "      10/50      4.91G        0.7     0.5614      1.033         18        640: 100%|██████████| 288/288 [01:45<00:00,  2.74it/s]\n",
      "                 Class     Images  Instances      Box(P          R      mAP50  mAP50-95): 100%|██████████| 2/2 [00:00<00:00,  2.92it/s]"
     ]
    },
    {
     "name": "stdout",
     "output_type": "stream",
     "text": [
      "                   all         39         69      0.844      0.739      0.847       0.65\n"
     ]
    },
    {
     "name": "stderr",
     "output_type": "stream",
     "text": [
      "\n"
     ]
    },
    {
     "name": "stdout",
     "output_type": "stream",
     "text": [
      "\n",
      "      Epoch    GPU_mem   box_loss   cls_loss   dfl_loss  Instances       Size\n"
     ]
    },
    {
     "name": "stderr",
     "output_type": "stream",
     "text": [
      "      11/50      4.91G     0.6928     0.5501      1.026         13        640: 100%|██████████| 288/288 [01:49<00:00,  2.63it/s]\n",
      "                 Class     Images  Instances      Box(P          R      mAP50  mAP50-95): 100%|██████████| 2/2 [00:00<00:00,  2.21it/s]"
     ]
    },
    {
     "name": "stdout",
     "output_type": "stream",
     "text": [
      "                   all         39         69      0.807      0.909      0.904      0.719\n"
     ]
    },
    {
     "name": "stderr",
     "output_type": "stream",
     "text": [
      "\n"
     ]
    },
    {
     "name": "stdout",
     "output_type": "stream",
     "text": [
      "\n",
      "      Epoch    GPU_mem   box_loss   cls_loss   dfl_loss  Instances       Size\n"
     ]
    },
    {
     "name": "stderr",
     "output_type": "stream",
     "text": [
      "      12/50      4.91G     0.6724     0.5302       1.02         20        640: 100%|██████████| 288/288 [01:48<00:00,  2.64it/s]\n",
      "                 Class     Images  Instances      Box(P          R      mAP50  mAP50-95): 100%|██████████| 2/2 [00:00<00:00,  3.60it/s]"
     ]
    },
    {
     "name": "stdout",
     "output_type": "stream",
     "text": [
      "                   all         39         69      0.744      0.594      0.655      0.533\n"
     ]
    },
    {
     "name": "stderr",
     "output_type": "stream",
     "text": [
      "\n"
     ]
    },
    {
     "name": "stdout",
     "output_type": "stream",
     "text": [
      "\n",
      "      Epoch    GPU_mem   box_loss   cls_loss   dfl_loss  Instances       Size\n"
     ]
    },
    {
     "name": "stderr",
     "output_type": "stream",
     "text": [
      "      13/50      4.91G     0.6636     0.5139      1.011         12        640: 100%|██████████| 288/288 [01:46<00:00,  2.69it/s]\n",
      "                 Class     Images  Instances      Box(P          R      mAP50  mAP50-95): 100%|██████████| 2/2 [00:00<00:00,  2.71it/s]"
     ]
    },
    {
     "name": "stdout",
     "output_type": "stream",
     "text": [
      "                   all         39         69      0.851      0.667      0.717      0.571\n"
     ]
    },
    {
     "name": "stderr",
     "output_type": "stream",
     "text": [
      "\n"
     ]
    },
    {
     "name": "stdout",
     "output_type": "stream",
     "text": [
      "\n",
      "      Epoch    GPU_mem   box_loss   cls_loss   dfl_loss  Instances       Size\n"
     ]
    },
    {
     "name": "stderr",
     "output_type": "stream",
     "text": [
      "      14/50      4.91G     0.6432      0.509      1.001         36        640: 100%|██████████| 288/288 [01:45<00:00,  2.74it/s]\n",
      "                 Class     Images  Instances      Box(P          R      mAP50  mAP50-95): 100%|██████████| 2/2 [00:00<00:00,  3.73it/s]"
     ]
    },
    {
     "name": "stdout",
     "output_type": "stream",
     "text": [
      "                   all         39         69      0.849      0.696      0.782      0.606\n"
     ]
    },
    {
     "name": "stderr",
     "output_type": "stream",
     "text": [
      "\n"
     ]
    },
    {
     "name": "stdout",
     "output_type": "stream",
     "text": [
      "\n",
      "      Epoch    GPU_mem   box_loss   cls_loss   dfl_loss  Instances       Size\n"
     ]
    },
    {
     "name": "stderr",
     "output_type": "stream",
     "text": [
      "      15/50      4.91G     0.6399      0.496      1.004         38        640: 100%|██████████| 288/288 [01:46<00:00,  2.71it/s]\n",
      "                 Class     Images  Instances      Box(P          R      mAP50  mAP50-95): 100%|██████████| 2/2 [00:00<00:00,  2.65it/s]"
     ]
    },
    {
     "name": "stdout",
     "output_type": "stream",
     "text": [
      "                   all         39         69      0.906      0.739      0.832      0.675\n"
     ]
    },
    {
     "name": "stderr",
     "output_type": "stream",
     "text": [
      "\n"
     ]
    },
    {
     "name": "stdout",
     "output_type": "stream",
     "text": [
      "\n",
      "      Epoch    GPU_mem   box_loss   cls_loss   dfl_loss  Instances       Size\n"
     ]
    },
    {
     "name": "stderr",
     "output_type": "stream",
     "text": [
      "      16/50      4.91G     0.6297     0.4944     0.9944         19        640: 100%|██████████| 288/288 [01:46<00:00,  2.71it/s]\n",
      "                 Class     Images  Instances      Box(P          R      mAP50  mAP50-95): 100%|██████████| 2/2 [00:00<00:00,  2.68it/s]"
     ]
    },
    {
     "name": "stdout",
     "output_type": "stream",
     "text": [
      "                   all         39         69      0.867      0.853      0.851      0.678\n"
     ]
    },
    {
     "name": "stderr",
     "output_type": "stream",
     "text": [
      "\n"
     ]
    },
    {
     "name": "stdout",
     "output_type": "stream",
     "text": [
      "\n",
      "      Epoch    GPU_mem   box_loss   cls_loss   dfl_loss  Instances       Size\n"
     ]
    },
    {
     "name": "stderr",
     "output_type": "stream",
     "text": [
      "      17/50      4.91G     0.6168     0.4785     0.9965         13        640: 100%|██████████| 288/288 [01:45<00:00,  2.72it/s]\n",
      "                 Class     Images  Instances      Box(P          R      mAP50  mAP50-95): 100%|██████████| 2/2 [00:00<00:00,  3.81it/s]"
     ]
    },
    {
     "name": "stdout",
     "output_type": "stream",
     "text": [
      "                   all         39         69      0.915      0.797      0.827      0.694\n"
     ]
    },
    {
     "name": "stderr",
     "output_type": "stream",
     "text": [
      "\n"
     ]
    },
    {
     "name": "stdout",
     "output_type": "stream",
     "text": [
      "\n",
      "      Epoch    GPU_mem   box_loss   cls_loss   dfl_loss  Instances       Size\n"
     ]
    },
    {
     "name": "stderr",
     "output_type": "stream",
     "text": [
      "      18/50      4.91G     0.6055     0.4669     0.9815         16        640: 100%|██████████| 288/288 [01:46<00:00,  2.71it/s]\n",
      "                 Class     Images  Instances      Box(P          R      mAP50  mAP50-95): 100%|██████████| 2/2 [00:01<00:00,  1.98it/s]"
     ]
    },
    {
     "name": "stdout",
     "output_type": "stream",
     "text": [
      "                   all         39         69      0.861      0.681      0.792      0.639\n"
     ]
    },
    {
     "name": "stderr",
     "output_type": "stream",
     "text": [
      "\n"
     ]
    },
    {
     "name": "stdout",
     "output_type": "stream",
     "text": [
      "\n",
      "      Epoch    GPU_mem   box_loss   cls_loss   dfl_loss  Instances       Size\n"
     ]
    },
    {
     "name": "stderr",
     "output_type": "stream",
     "text": [
      "      19/50      4.91G     0.5945     0.4662     0.9777         24        640: 100%|██████████| 288/288 [01:43<00:00,  2.77it/s]\n",
      "                 Class     Images  Instances      Box(P          R      mAP50  mAP50-95): 100%|██████████| 2/2 [00:00<00:00,  3.53it/s]"
     ]
    },
    {
     "name": "stdout",
     "output_type": "stream",
     "text": [
      "                   all         39         69      0.883      0.877      0.906      0.732\n"
     ]
    },
    {
     "name": "stderr",
     "output_type": "stream",
     "text": [
      "\n"
     ]
    },
    {
     "name": "stdout",
     "output_type": "stream",
     "text": [
      "\n",
      "      Epoch    GPU_mem   box_loss   cls_loss   dfl_loss  Instances       Size\n"
     ]
    },
    {
     "name": "stderr",
     "output_type": "stream",
     "text": [
      "      20/50      4.91G     0.5913     0.4599     0.9739         24        640: 100%|██████████| 288/288 [01:48<00:00,  2.65it/s]\n",
      "                 Class     Images  Instances      Box(P          R      mAP50  mAP50-95): 100%|██████████| 2/2 [00:01<00:00,  1.97it/s]"
     ]
    },
    {
     "name": "stdout",
     "output_type": "stream",
     "text": [
      "                   all         39         69       0.83      0.855      0.875      0.699\n"
     ]
    },
    {
     "name": "stderr",
     "output_type": "stream",
     "text": [
      "\n"
     ]
    },
    {
     "name": "stdout",
     "output_type": "stream",
     "text": [
      "\n",
      "      Epoch    GPU_mem   box_loss   cls_loss   dfl_loss  Instances       Size\n"
     ]
    },
    {
     "name": "stderr",
     "output_type": "stream",
     "text": [
      "      21/50      4.91G     0.5817     0.4499     0.9772         15        640: 100%|██████████| 288/288 [01:48<00:00,  2.66it/s]\n",
      "                 Class     Images  Instances      Box(P          R      mAP50  mAP50-95): 100%|██████████| 2/2 [00:00<00:00,  2.92it/s]"
     ]
    },
    {
     "name": "stdout",
     "output_type": "stream",
     "text": [
      "                   all         39         69      0.895      0.861      0.876      0.714\n"
     ]
    },
    {
     "name": "stderr",
     "output_type": "stream",
     "text": [
      "\n"
     ]
    },
    {
     "name": "stdout",
     "output_type": "stream",
     "text": [
      "\n",
      "      Epoch    GPU_mem   box_loss   cls_loss   dfl_loss  Instances       Size\n"
     ]
    },
    {
     "name": "stderr",
     "output_type": "stream",
     "text": [
      "      22/50      4.91G     0.5693     0.4456     0.9724         23        640: 100%|██████████| 288/288 [01:47<00:00,  2.67it/s]\n",
      "                 Class     Images  Instances      Box(P          R      mAP50  mAP50-95): 100%|██████████| 2/2 [00:00<00:00,  2.57it/s]\n"
     ]
    },
    {
     "name": "stdout",
     "output_type": "stream",
     "text": [
      "                   all         39         69      0.919      0.823      0.867       0.74\n",
      "\n",
      "      Epoch    GPU_mem   box_loss   cls_loss   dfl_loss  Instances       Size\n"
     ]
    },
    {
     "name": "stderr",
     "output_type": "stream",
     "text": [
      "      23/50      4.91G     0.5529     0.4261     0.9593         80        640: 100%|██████████| 288/288 [01:51<00:00,  2.59it/s]\n",
      "                 Class     Images  Instances      Box(P          R      mAP50  mAP50-95): 100%|██████████| 2/2 [00:00<00:00,  2.07it/s]"
     ]
    },
    {
     "name": "stdout",
     "output_type": "stream",
     "text": [
      "                   all         39         69      0.849       0.87      0.899      0.757\n"
     ]
    },
    {
     "name": "stderr",
     "output_type": "stream",
     "text": [
      "\n"
     ]
    },
    {
     "name": "stdout",
     "output_type": "stream",
     "text": [
      "\n",
      "      Epoch    GPU_mem   box_loss   cls_loss   dfl_loss  Instances       Size\n"
     ]
    },
    {
     "name": "stderr",
     "output_type": "stream",
     "text": [
      "      24/50      4.91G     0.5524      0.431     0.9578         38        640: 100%|██████████| 288/288 [01:46<00:00,  2.70it/s]\n",
      "                 Class     Images  Instances      Box(P          R      mAP50  mAP50-95): 100%|██████████| 2/2 [00:00<00:00,  2.99it/s]"
     ]
    },
    {
     "name": "stdout",
     "output_type": "stream",
     "text": [
      "                   all         39         69      0.909      0.797       0.88       0.72\n"
     ]
    },
    {
     "name": "stderr",
     "output_type": "stream",
     "text": [
      "\n"
     ]
    },
    {
     "name": "stdout",
     "output_type": "stream",
     "text": [
      "\n",
      "      Epoch    GPU_mem   box_loss   cls_loss   dfl_loss  Instances       Size\n"
     ]
    },
    {
     "name": "stderr",
     "output_type": "stream",
     "text": [
      "      25/50      4.91G     0.5503     0.4172     0.9584         21        640: 100%|██████████| 288/288 [01:48<00:00,  2.65it/s]\n",
      "                 Class     Images  Instances      Box(P          R      mAP50  mAP50-95): 100%|██████████| 2/2 [00:00<00:00,  2.48it/s]"
     ]
    },
    {
     "name": "stdout",
     "output_type": "stream",
     "text": [
      "                   all         39         69      0.922      0.768      0.889      0.721\n"
     ]
    },
    {
     "name": "stderr",
     "output_type": "stream",
     "text": [
      "\n"
     ]
    },
    {
     "name": "stdout",
     "output_type": "stream",
     "text": [
      "\n",
      "      Epoch    GPU_mem   box_loss   cls_loss   dfl_loss  Instances       Size\n"
     ]
    },
    {
     "name": "stderr",
     "output_type": "stream",
     "text": [
      "      26/50      4.91G     0.5318     0.4082     0.9528         15        640: 100%|██████████| 288/288 [01:46<00:00,  2.70it/s]\n",
      "                 Class     Images  Instances      Box(P          R      mAP50  mAP50-95): 100%|██████████| 2/2 [00:00<00:00,  2.31it/s]"
     ]
    },
    {
     "name": "stdout",
     "output_type": "stream",
     "text": [
      "                   all         39         69      0.963      0.812      0.888      0.735\n"
     ]
    },
    {
     "name": "stderr",
     "output_type": "stream",
     "text": [
      "\n"
     ]
    },
    {
     "name": "stdout",
     "output_type": "stream",
     "text": [
      "\n",
      "      Epoch    GPU_mem   box_loss   cls_loss   dfl_loss  Instances       Size\n"
     ]
    },
    {
     "name": "stderr",
     "output_type": "stream",
     "text": [
      "      27/50      4.91G     0.5291     0.4117     0.9521         22        640: 100%|██████████| 288/288 [01:45<00:00,  2.73it/s]\n",
      "                 Class     Images  Instances      Box(P          R      mAP50  mAP50-95): 100%|██████████| 2/2 [00:00<00:00,  4.15it/s]"
     ]
    },
    {
     "name": "stdout",
     "output_type": "stream",
     "text": [
      "                   all         39         69      0.841       0.87      0.884      0.722\n"
     ]
    },
    {
     "name": "stderr",
     "output_type": "stream",
     "text": [
      "\n"
     ]
    },
    {
     "name": "stdout",
     "output_type": "stream",
     "text": [
      "\n",
      "      Epoch    GPU_mem   box_loss   cls_loss   dfl_loss  Instances       Size\n"
     ]
    },
    {
     "name": "stderr",
     "output_type": "stream",
     "text": [
      "      28/50      4.91G     0.5282     0.4047     0.9486         16        640: 100%|██████████| 288/288 [01:46<00:00,  2.70it/s]\n",
      "                 Class     Images  Instances      Box(P          R      mAP50  mAP50-95): 100%|██████████| 2/2 [00:00<00:00,  2.41it/s]"
     ]
    },
    {
     "name": "stdout",
     "output_type": "stream",
     "text": [
      "                   all         39         69      0.861      0.841      0.882      0.725\n"
     ]
    },
    {
     "name": "stderr",
     "output_type": "stream",
     "text": [
      "\n"
     ]
    },
    {
     "name": "stdout",
     "output_type": "stream",
     "text": [
      "\n",
      "      Epoch    GPU_mem   box_loss   cls_loss   dfl_loss  Instances       Size\n"
     ]
    },
    {
     "name": "stderr",
     "output_type": "stream",
     "text": [
      "      29/50      4.91G      0.513     0.3909     0.9422         22        640: 100%|██████████| 288/288 [01:44<00:00,  2.76it/s]\n",
      "                 Class     Images  Instances      Box(P          R      mAP50  mAP50-95): 100%|██████████| 2/2 [00:00<00:00,  3.56it/s]"
     ]
    },
    {
     "name": "stdout",
     "output_type": "stream",
     "text": [
      "                   all         39         69      0.847      0.882      0.878      0.718\n"
     ]
    },
    {
     "name": "stderr",
     "output_type": "stream",
     "text": [
      "\n"
     ]
    },
    {
     "name": "stdout",
     "output_type": "stream",
     "text": [
      "\n",
      "      Epoch    GPU_mem   box_loss   cls_loss   dfl_loss  Instances       Size\n"
     ]
    },
    {
     "name": "stderr",
     "output_type": "stream",
     "text": [
      "      30/50      4.91G     0.5015     0.3833     0.9336         21        640: 100%|██████████| 288/288 [01:47<00:00,  2.68it/s]\n",
      "                 Class     Images  Instances      Box(P          R      mAP50  mAP50-95): 100%|██████████| 2/2 [00:00<00:00,  3.72it/s]"
     ]
    },
    {
     "name": "stdout",
     "output_type": "stream",
     "text": [
      "                   all         39         69      0.912      0.913      0.906      0.765\n"
     ]
    },
    {
     "name": "stderr",
     "output_type": "stream",
     "text": [
      "\n"
     ]
    },
    {
     "name": "stdout",
     "output_type": "stream",
     "text": [
      "\n",
      "      Epoch    GPU_mem   box_loss   cls_loss   dfl_loss  Instances       Size\n"
     ]
    },
    {
     "name": "stderr",
     "output_type": "stream",
     "text": [
      "      31/50      4.91G     0.5004     0.3805     0.9334         16        640: 100%|██████████| 288/288 [01:47<00:00,  2.69it/s]\n",
      "                 Class     Images  Instances      Box(P          R      mAP50  mAP50-95): 100%|██████████| 2/2 [00:00<00:00,  2.54it/s]"
     ]
    },
    {
     "name": "stdout",
     "output_type": "stream",
     "text": [
      "                   all         39         69      0.916      0.787      0.879       0.71\n"
     ]
    },
    {
     "name": "stderr",
     "output_type": "stream",
     "text": [
      "\n"
     ]
    },
    {
     "name": "stdout",
     "output_type": "stream",
     "text": [
      "\n",
      "      Epoch    GPU_mem   box_loss   cls_loss   dfl_loss  Instances       Size\n"
     ]
    },
    {
     "name": "stderr",
     "output_type": "stream",
     "text": [
      "      32/50      4.91G     0.4916     0.3749     0.9332         15        640: 100%|██████████| 288/288 [01:44<00:00,  2.76it/s]\n",
      "                 Class     Images  Instances      Box(P          R      mAP50  mAP50-95): 100%|██████████| 2/2 [00:00<00:00,  3.00it/s]"
     ]
    },
    {
     "name": "stdout",
     "output_type": "stream",
     "text": [
      "                   all         39         69      0.812      0.841      0.856      0.717\n"
     ]
    },
    {
     "name": "stderr",
     "output_type": "stream",
     "text": [
      "\n"
     ]
    },
    {
     "name": "stdout",
     "output_type": "stream",
     "text": [
      "\n",
      "      Epoch    GPU_mem   box_loss   cls_loss   dfl_loss  Instances       Size\n"
     ]
    },
    {
     "name": "stderr",
     "output_type": "stream",
     "text": [
      "      33/50      4.91G     0.4876     0.3741     0.9265         30        640: 100%|██████████| 288/288 [01:46<00:00,  2.71it/s]\n",
      "                 Class     Images  Instances      Box(P          R      mAP50  mAP50-95): 100%|██████████| 2/2 [00:00<00:00,  2.30it/s]"
     ]
    },
    {
     "name": "stdout",
     "output_type": "stream",
     "text": [
      "                   all         39         69      0.948      0.794      0.884      0.734\n"
     ]
    },
    {
     "name": "stderr",
     "output_type": "stream",
     "text": [
      "\n"
     ]
    },
    {
     "name": "stdout",
     "output_type": "stream",
     "text": [
      "\n",
      "      Epoch    GPU_mem   box_loss   cls_loss   dfl_loss  Instances       Size\n"
     ]
    },
    {
     "name": "stderr",
     "output_type": "stream",
     "text": [
      "      34/50      4.91G     0.4831     0.3662     0.9259         16        640: 100%|██████████| 288/288 [01:44<00:00,  2.76it/s]\n",
      "                 Class     Images  Instances      Box(P          R      mAP50  mAP50-95): 100%|██████████| 2/2 [00:00<00:00,  3.11it/s]"
     ]
    },
    {
     "name": "stdout",
     "output_type": "stream",
     "text": [
      "                   all         39         69      0.899      0.904      0.921      0.759\n"
     ]
    },
    {
     "name": "stderr",
     "output_type": "stream",
     "text": [
      "\n"
     ]
    },
    {
     "name": "stdout",
     "output_type": "stream",
     "text": [
      "\n",
      "      Epoch    GPU_mem   box_loss   cls_loss   dfl_loss  Instances       Size\n"
     ]
    },
    {
     "name": "stderr",
     "output_type": "stream",
     "text": [
      "      35/50      4.91G     0.4741     0.3615     0.9221         15        640: 100%|██████████| 288/288 [01:46<00:00,  2.69it/s]\n",
      "                 Class     Images  Instances      Box(P          R      mAP50  mAP50-95): 100%|██████████| 2/2 [00:00<00:00,  2.27it/s]"
     ]
    },
    {
     "name": "stdout",
     "output_type": "stream",
     "text": [
      "                   all         39         69      0.886      0.903      0.913      0.743\n"
     ]
    },
    {
     "name": "stderr",
     "output_type": "stream",
     "text": [
      "\n"
     ]
    },
    {
     "name": "stdout",
     "output_type": "stream",
     "text": [
      "\n",
      "      Epoch    GPU_mem   box_loss   cls_loss   dfl_loss  Instances       Size\n"
     ]
    },
    {
     "name": "stderr",
     "output_type": "stream",
     "text": [
      "      36/50      4.91G     0.4693     0.3591     0.9239         17        640: 100%|██████████| 288/288 [01:44<00:00,  2.76it/s]\n",
      "                 Class     Images  Instances      Box(P          R      mAP50  mAP50-95): 100%|██████████| 2/2 [00:00<00:00,  4.07it/s]"
     ]
    },
    {
     "name": "stdout",
     "output_type": "stream",
     "text": [
      "                   all         39         69      0.912      0.855      0.926      0.755\n"
     ]
    },
    {
     "name": "stderr",
     "output_type": "stream",
     "text": [
      "\n"
     ]
    },
    {
     "name": "stdout",
     "output_type": "stream",
     "text": [
      "\n",
      "      Epoch    GPU_mem   box_loss   cls_loss   dfl_loss  Instances       Size\n"
     ]
    },
    {
     "name": "stderr",
     "output_type": "stream",
     "text": [
      "      37/50      4.91G     0.4567     0.3503     0.9193         16        640: 100%|██████████| 288/288 [01:46<00:00,  2.71it/s]\n",
      "                 Class     Images  Instances      Box(P          R      mAP50  mAP50-95): 100%|██████████| 2/2 [00:00<00:00,  2.20it/s]"
     ]
    },
    {
     "name": "stdout",
     "output_type": "stream",
     "text": [
      "                   all         39         69      0.873      0.893       0.92      0.766\n"
     ]
    },
    {
     "name": "stderr",
     "output_type": "stream",
     "text": [
      "\n"
     ]
    },
    {
     "name": "stdout",
     "output_type": "stream",
     "text": [
      "\n",
      "      Epoch    GPU_mem   box_loss   cls_loss   dfl_loss  Instances       Size\n"
     ]
    },
    {
     "name": "stderr",
     "output_type": "stream",
     "text": [
      "      38/50      4.91G      0.457     0.3463     0.9168         16        640: 100%|██████████| 288/288 [01:46<00:00,  2.71it/s]\n",
      "                 Class     Images  Instances      Box(P          R      mAP50  mAP50-95): 100%|██████████| 2/2 [00:00<00:00,  3.66it/s]"
     ]
    },
    {
     "name": "stdout",
     "output_type": "stream",
     "text": [
      "                   all         39         69      0.926      0.723      0.869      0.757\n"
     ]
    },
    {
     "name": "stderr",
     "output_type": "stream",
     "text": [
      "\n"
     ]
    },
    {
     "name": "stdout",
     "output_type": "stream",
     "text": [
      "\n",
      "      Epoch    GPU_mem   box_loss   cls_loss   dfl_loss  Instances       Size\n"
     ]
    },
    {
     "name": "stderr",
     "output_type": "stream",
     "text": [
      "      39/50      4.91G     0.4526     0.3439     0.9163         33        640: 100%|██████████| 288/288 [01:47<00:00,  2.67it/s]\n",
      "                 Class     Images  Instances      Box(P          R      mAP50  mAP50-95): 100%|██████████| 2/2 [00:00<00:00,  3.43it/s]"
     ]
    },
    {
     "name": "stdout",
     "output_type": "stream",
     "text": [
      "                   all         39         69      0.922      0.854       0.91      0.779\n"
     ]
    },
    {
     "name": "stderr",
     "output_type": "stream",
     "text": [
      "\n"
     ]
    },
    {
     "name": "stdout",
     "output_type": "stream",
     "text": [
      "\n",
      "      Epoch    GPU_mem   box_loss   cls_loss   dfl_loss  Instances       Size\n"
     ]
    },
    {
     "name": "stderr",
     "output_type": "stream",
     "text": [
      "      40/50      4.94G     0.4381     0.3335     0.9089         13        640: 100%|██████████| 288/288 [01:47<00:00,  2.68it/s]\n",
      "                 Class     Images  Instances      Box(P          R      mAP50  mAP50-95): 100%|██████████| 2/2 [00:00<00:00,  3.44it/s]"
     ]
    },
    {
     "name": "stdout",
     "output_type": "stream",
     "text": [
      "                   all         39         69      0.931      0.855      0.909      0.802\n"
     ]
    },
    {
     "name": "stderr",
     "output_type": "stream",
     "text": [
      "\n"
     ]
    },
    {
     "name": "stdout",
     "output_type": "stream",
     "text": [
      "Closing dataloader mosaic\n",
      "\u001b[34m\u001b[1malbumentations: \u001b[0mBlur(p=0.01, blur_limit=(3, 7)), MedianBlur(p=0.01, blur_limit=(3, 7)), ToGray(p=0.01, method='weighted_average', num_output_channels=3), CLAHE(p=0.01, clip_limit=(1.0, 4.0), tile_grid_size=(8, 8))\n",
      "\n",
      "      Epoch    GPU_mem   box_loss   cls_loss   dfl_loss  Instances       Size\n"
     ]
    },
    {
     "name": "stderr",
     "output_type": "stream",
     "text": [
      "      41/50      4.94G     0.3754     0.2793     0.8619         12        640: 100%|██████████| 288/288 [01:49<00:00,  2.64it/s]\n",
      "                 Class     Images  Instances      Box(P          R      mAP50  mAP50-95): 100%|██████████| 2/2 [00:00<00:00,  3.89it/s]"
     ]
    },
    {
     "name": "stdout",
     "output_type": "stream",
     "text": [
      "                   all         39         69      0.927      0.736      0.871      0.749\n"
     ]
    },
    {
     "name": "stderr",
     "output_type": "stream",
     "text": [
      "\n"
     ]
    },
    {
     "name": "stdout",
     "output_type": "stream",
     "text": [
      "\n",
      "      Epoch    GPU_mem   box_loss   cls_loss   dfl_loss  Instances       Size\n"
     ]
    },
    {
     "name": "stderr",
     "output_type": "stream",
     "text": [
      "      42/50      4.94G     0.3714     0.2734     0.8626         10        640: 100%|██████████| 288/288 [01:44<00:00,  2.74it/s]\n",
      "                 Class     Images  Instances      Box(P          R      mAP50  mAP50-95): 100%|██████████| 2/2 [00:00<00:00,  3.26it/s]"
     ]
    },
    {
     "name": "stdout",
     "output_type": "stream",
     "text": [
      "                   all         39         69      0.875      0.813        0.9      0.788\n"
     ]
    },
    {
     "name": "stderr",
     "output_type": "stream",
     "text": [
      "\n"
     ]
    },
    {
     "name": "stdout",
     "output_type": "stream",
     "text": [
      "\n",
      "      Epoch    GPU_mem   box_loss   cls_loss   dfl_loss  Instances       Size\n"
     ]
    },
    {
     "name": "stderr",
     "output_type": "stream",
     "text": [
      "      43/50      4.94G     0.3539     0.2602     0.8572         33        640: 100%|██████████| 288/288 [01:47<00:00,  2.68it/s]\n",
      "                 Class     Images  Instances      Box(P          R      mAP50  mAP50-95): 100%|██████████| 2/2 [00:00<00:00,  2.90it/s]"
     ]
    },
    {
     "name": "stdout",
     "output_type": "stream",
     "text": [
      "                   all         39         69      0.852      0.834      0.907      0.771\n"
     ]
    },
    {
     "name": "stderr",
     "output_type": "stream",
     "text": [
      "\n"
     ]
    },
    {
     "name": "stdout",
     "output_type": "stream",
     "text": [
      "\n",
      "      Epoch    GPU_mem   box_loss   cls_loss   dfl_loss  Instances       Size\n"
     ]
    },
    {
     "name": "stderr",
     "output_type": "stream",
     "text": [
      "      44/50      4.94G     0.3579     0.2599     0.8546          8        640: 100%|██████████| 288/288 [01:44<00:00,  2.75it/s]\n",
      "                 Class     Images  Instances      Box(P          R      mAP50  mAP50-95): 100%|██████████| 2/2 [00:00<00:00,  2.87it/s]"
     ]
    },
    {
     "name": "stdout",
     "output_type": "stream",
     "text": [
      "                   all         39         69      0.855      0.853      0.895      0.771\n"
     ]
    },
    {
     "name": "stderr",
     "output_type": "stream",
     "text": [
      "\n"
     ]
    },
    {
     "name": "stdout",
     "output_type": "stream",
     "text": [
      "\n",
      "      Epoch    GPU_mem   box_loss   cls_loss   dfl_loss  Instances       Size\n"
     ]
    },
    {
     "name": "stderr",
     "output_type": "stream",
     "text": [
      "      45/50      4.94G     0.3524     0.2566     0.8534         19        640: 100%|██████████| 288/288 [01:49<00:00,  2.64it/s]\n",
      "                 Class     Images  Instances      Box(P          R      mAP50  mAP50-95): 100%|██████████| 2/2 [00:00<00:00,  3.25it/s]"
     ]
    },
    {
     "name": "stdout",
     "output_type": "stream",
     "text": [
      "                   all         39         69      0.861      0.855      0.905      0.769\n"
     ]
    },
    {
     "name": "stderr",
     "output_type": "stream",
     "text": [
      "\n"
     ]
    },
    {
     "name": "stdout",
     "output_type": "stream",
     "text": [
      "\n",
      "      Epoch    GPU_mem   box_loss   cls_loss   dfl_loss  Instances       Size\n"
     ]
    },
    {
     "name": "stderr",
     "output_type": "stream",
     "text": [
      "      46/50      4.94G     0.3407      0.251     0.8477         13        640: 100%|██████████| 288/288 [01:43<00:00,  2.79it/s]\n",
      "                 Class     Images  Instances      Box(P          R      mAP50  mAP50-95): 100%|██████████| 2/2 [00:00<00:00,  2.83it/s]"
     ]
    },
    {
     "name": "stdout",
     "output_type": "stream",
     "text": [
      "                   all         39         69      0.942      0.783      0.908      0.792\n"
     ]
    },
    {
     "name": "stderr",
     "output_type": "stream",
     "text": [
      "\n"
     ]
    },
    {
     "name": "stdout",
     "output_type": "stream",
     "text": [
      "\n",
      "      Epoch    GPU_mem   box_loss   cls_loss   dfl_loss  Instances       Size\n"
     ]
    },
    {
     "name": "stderr",
     "output_type": "stream",
     "text": [
      "      47/50      4.94G     0.3387     0.2422     0.8466          9        640: 100%|██████████| 288/288 [01:43<00:00,  2.78it/s]\n",
      "                 Class     Images  Instances      Box(P          R      mAP50  mAP50-95): 100%|██████████| 2/2 [00:00<00:00,  2.30it/s]"
     ]
    },
    {
     "name": "stdout",
     "output_type": "stream",
     "text": [
      "                   all         39         69      0.945      0.841      0.914      0.801\n"
     ]
    },
    {
     "name": "stderr",
     "output_type": "stream",
     "text": [
      "\n"
     ]
    },
    {
     "name": "stdout",
     "output_type": "stream",
     "text": [
      "\n",
      "      Epoch    GPU_mem   box_loss   cls_loss   dfl_loss  Instances       Size\n"
     ]
    },
    {
     "name": "stderr",
     "output_type": "stream",
     "text": [
      "      48/50      4.94G     0.3293      0.237      0.845         14        640: 100%|██████████| 288/288 [01:45<00:00,  2.72it/s]\n",
      "                 Class     Images  Instances      Box(P          R      mAP50  mAP50-95): 100%|██████████| 2/2 [00:00<00:00,  3.33it/s]"
     ]
    },
    {
     "name": "stdout",
     "output_type": "stream",
     "text": [
      "                   all         39         69      0.948      0.826      0.922      0.805\n"
     ]
    },
    {
     "name": "stderr",
     "output_type": "stream",
     "text": [
      "\n"
     ]
    },
    {
     "name": "stdout",
     "output_type": "stream",
     "text": [
      "\n",
      "      Epoch    GPU_mem   box_loss   cls_loss   dfl_loss  Instances       Size\n"
     ]
    },
    {
     "name": "stderr",
     "output_type": "stream",
     "text": [
      "      49/50      4.94G     0.3263     0.2372     0.8479         13        640: 100%|██████████| 288/288 [01:43<00:00,  2.78it/s]\n",
      "                 Class     Images  Instances      Box(P          R      mAP50  mAP50-95): 100%|██████████| 2/2 [00:00<00:00,  3.90it/s]"
     ]
    },
    {
     "name": "stdout",
     "output_type": "stream",
     "text": [
      "                   all         39         69      0.935      0.837      0.921      0.807\n"
     ]
    },
    {
     "name": "stderr",
     "output_type": "stream",
     "text": [
      "\n"
     ]
    },
    {
     "name": "stdout",
     "output_type": "stream",
     "text": [
      "\n",
      "      Epoch    GPU_mem   box_loss   cls_loss   dfl_loss  Instances       Size\n"
     ]
    },
    {
     "name": "stderr",
     "output_type": "stream",
     "text": [
      "      50/50      4.94G     0.3213     0.2319     0.8436         14        640: 100%|██████████| 288/288 [01:47<00:00,  2.69it/s]\n",
      "                 Class     Images  Instances      Box(P          R      mAP50  mAP50-95): 100%|██████████| 2/2 [00:00<00:00,  3.40it/s]"
     ]
    },
    {
     "name": "stdout",
     "output_type": "stream",
     "text": [
      "                   all         39         69      0.953      0.826      0.922      0.812\n"
     ]
    },
    {
     "name": "stderr",
     "output_type": "stream",
     "text": [
      "\n"
     ]
    },
    {
     "name": "stdout",
     "output_type": "stream",
     "text": [
      "\n",
      "50 epochs completed in 1.535 hours.\n",
      "Optimizer stripped from /content/drive/MyDrive/hackerton/safe/HardHatDetector/yolo_results/helmet_detection_run_with_augmentation/weights/last.pt, 19.2MB\n",
      "Optimizer stripped from /content/drive/MyDrive/hackerton/safe/HardHatDetector/yolo_results/helmet_detection_run_with_augmentation/weights/best.pt, 19.2MB\n",
      "\n",
      "Validating /content/drive/MyDrive/hackerton/safe/HardHatDetector/yolo_results/helmet_detection_run_with_augmentation/weights/best.pt...\n",
      "Ultralytics 8.3.161 🚀 Python-3.11.13 torch-2.6.0+cu124 CUDA:0 (Tesla T4, 15095MiB)\n",
      "YOLO11s summary (fused): 100 layers, 9,413,574 parameters, 0 gradients, 21.3 GFLOPs\n"
     ]
    },
    {
     "name": "stderr",
     "output_type": "stream",
     "text": [
      "                 Class     Images  Instances      Box(P          R      mAP50  mAP50-95): 100%|██████████| 2/2 [00:00<00:00,  3.26it/s]\n"
     ]
    },
    {
     "name": "stdout",
     "output_type": "stream",
     "text": [
      "                   all         39         69      0.954      0.826      0.922      0.813\n",
      "                helmet         37         69      0.954      0.826      0.922      0.813\n",
      "Speed: 0.3ms preprocess, 6.4ms inference, 0.0ms loss, 1.8ms postprocess per image\n",
      "Results saved to \u001b[1m/content/drive/MyDrive/hackerton/safe/HardHatDetector/yolo_results/helmet_detection_run_with_augmentation\u001b[0m\n"
     ]
    }
   ],
   "source": [
    "# 데이터 증강과 세부 설정 적용\n",
    "model = YOLO('/content/drive/MyDrive/hackerton/safe/HardHatDetector/ptModel/yolo11s.pt')\n",
    "training_results = model.train(\n",
    "    data=CUSTOM_YAML_PATH,\n",
    "    epochs=50,\n",
    "    patience=10,\n",
    "    batch=16,\n",
    "    imgsz=640,\n",
    "    optimizer='AdamW',\n",
    "    lr0=0.001,\n",
    "\n",
    "    # ---  데이터 증강 옵션 ---\n",
    "    # hsv_h=0.015,  # 색상(H) 변화 범위 (기본값: 0.015)\n",
    "    # hsv_s=0.7,    # 채도(S) 변화 범위 (기본값: 0.7)\n",
    "    # hsv_v=0.4,    # 명도(V) 변화 범위 (기본값: 0.4)\n",
    "    # degrees=10.0, # 이미지 회전 각도 (기본값: 0.0) -> 약간의 회전 추가\n",
    "    # translate=0.1,# 이미지 좌우/상하 이동 (기본값: 0.1)\n",
    "    # scale=0.2,    # 이미지 확대/축소 (기본값: 0.5) -> 스케일 변화를 조금 줄여봄\n",
    "    # shear=5.0,    # 이미지 기울이기 (기본값: 0.0) -> 약간의 기울임 추가\n",
    "    # flipud=0.5,   # 상하 뒤집기 확률 (기본값: 0.0) -> 상하 반전 데이터 추가\n",
    "    fliplr=0.5,   # 좌우 뒤집기 확률 (기본값: 0.5)\n",
    "    mosaic=0.5,   # 모자이크 증강 (여러 이미지를 합침) 확률 (기본값: 1.0)\n",
    "    # mixup=0.0,    # MixUp 증강 (두 이미지를 섞음) 확률 (기본값: 0.0) -> 약간 추가\n",
    "    # ------------------------------------\n",
    "\n",
    "    project=\"/content/drive/MyDrive/hackerton/safe/HardHatDetector/yolo_results\", # 결과 저장 경로\n",
    "    name=\"helmet_detection_run_with_augmentation\" # 새로운 실행 이름\n",
    ")"
   ]
  },
  {
   "cell_type": "markdown",
   "metadata": {
    "id": "sFOEP_vo5IDf"
   },
   "source": [
    "* **`project`**: 훈련 결과가 저장될 구글 드라이브의 상위 폴더를 지정하여, 런타임이 종료되어도 결과가 보존되도록 합니다.\n",
    "\n",
    "-----"
   ]
  },
  {
   "cell_type": "markdown",
   "metadata": {
    "id": "2Wed5Ybzonkg"
   },
   "source": [
    "### **3단계: 성능 검증 (F1 Score, 정확도 등)**\n",
    "\n",
    "훈련이 완료되면, 가장 성능이 좋았던 모델(`best.pt`)을 검증 데이터셋으로 평가하여 객관적인 성능 지표를 얻습니다.\n",
    "\n",
    "  * **주요 지표**:\n",
    "      * **Precision (정밀도)**: 모델이 \"헬멧\"이라고 예측한 것 중, 진짜 헬멧의 비율.\n",
    "      * **Recall (재현율)**: 실제 모든 헬멧 중에서, 모델이 \"헬멧\"이라고 맞춘 비율.\n",
    "      * **mAP (mean Average Precision)**: 정밀도와 재현율을 종합적으로 고려한, 객체 탐지 모델의 표준 성능 평가 지표. (가장 중요)\n",
    "      * **F1 Score**: 정밀도와 재현율의 조화 평균.\n",
    "\n",
    "`val.py` 스크립트는 이 지표들을 자동으로 계산하고, **Precision-Recall(PR) 커브, F1-Score 커브** 등 다양한 그래프를 생성해줍니다. ROC 커브는 주로 이진 분류 문제에 사용되며, 객체 탐지에서는 PR 커브가 더 일반적으로 사용됩니다."
   ]
  },
  {
   "cell_type": "code",
   "execution_count": null,
   "metadata": {
    "colab": {
     "base_uri": "https://localhost:8080/"
    },
    "collapsed": true,
    "executionInfo": {
     "elapsed": 6118,
     "status": "ok",
     "timestamp": 1751531738868,
     "user": {
      "displayName": "k im",
      "userId": "08581733427727695003"
     },
     "user_tz": -540
    },
    "id": "olzbgNwSonkg",
    "outputId": "5a66e9d9-ba0f-40a4-814b-4e4733d31180"
   },
   "outputs": [
    {
     "name": "stdout",
     "output_type": "stream",
     "text": [
      "최고 성능 모델 로드 중: /content/drive/MyDrive/hackerton/safe/HardHatDetector/yolo_results/helmet_detection_run_with_augmentation/weights/best.pt\n",
      "\n",
      "모델 검증을 시작합니다...\n",
      "Ultralytics 8.3.161 🚀 Python-3.11.13 torch-2.6.0+cu124 CUDA:0 (Tesla T4, 15095MiB)\n",
      "YOLO11s summary (fused): 100 layers, 9,413,574 parameters, 0 gradients, 21.3 GFLOPs\n",
      "\u001b[34m\u001b[1mval: \u001b[0mFast image access ✅ (ping: 0.4±0.1 ms, read: 24.7±16.0 MB/s, size: 44.2 KB)\n"
     ]
    },
    {
     "name": "stderr",
     "output_type": "stream",
     "text": [
      "\u001b[34m\u001b[1mval: \u001b[0mScanning /content/drive/MyDrive/hackerton/safe/HardHatDetector/valid/labels.cache... 39 images, 2 backgrounds, 0 corrupt: 100%|██████████| 39/39 [00:00<?, ?it/s]\n",
      "                 Class     Images  Instances      Box(P          R      mAP50  mAP50-95): 100%|██████████| 3/3 [00:01<00:00,  1.66it/s]\n"
     ]
    },
    {
     "name": "stdout",
     "output_type": "stream",
     "text": [
      "                   all         39         69      0.953      0.826      0.922      0.814\n",
      "                helmet         37         69      0.953      0.826      0.922      0.814\n",
      "Speed: 3.4ms preprocess, 18.4ms inference, 0.0ms loss, 5.1ms postprocess per image\n",
      "Results saved to \u001b[1mruns/detect/val\u001b[0m\n",
      "\n",
      "--- 최종 검증 결과 ---\n",
      "mAP50-95: 81.42%\n",
      "mAP50:    92.23%\n"
     ]
    }
   ],
   "source": [
    "project_name = \"/content/drive/MyDrive/hackerton/safe/HardHatDetector/yolo_results\"\n",
    "run_name = \"helmet_detection_run_with_augmentation\"\n",
    "\n",
    "# 훈련된 모델 중 가장 좋은 모델의 가중치 경로\n",
    "best_model_path = f\"{project_name}/{run_name}/weights/best.pt\"\n",
    "\n",
    "# 훈련된 모델 중 가장 성능이 좋았던 모델을 로드합니다.\n",
    "print(f\"최고 성능 모델 로드 중: {best_model_path}\")\n",
    "model = YOLO(best_model_path)\n",
    "\n",
    "# .val() 메소드를 호출하여 검증을 수행합니다.\n",
    "# 훈련 시 사용했던 data.yaml 파일의 경로를 data 인자에 전달할 수 있습니다.\n",
    "# 만약 훈련 직후라면, 모델이 데이터셋 정보를 기억하고 있어 data 인자를 생략해도 됩니다.\n",
    "print(\"\\n모델 검증을 시작합니다...\")\n",
    "metrics = model.val(data=CUSTOM_YAML_PATH, imgsz=640)\n",
    "\n",
    "# 검증 결과 확인\n",
    "# metrics 객체에 모든 성능 지표가 담겨 있습니다.\n",
    "print(\"\\n--- 최종 검증 결과 ---\")\n",
    "print(f\"mAP50-95: {metrics.box.map * 100:.2f}%\")\n",
    "print(f\"mAP50:    {metrics.box.map50 * 100:.2f}%\")"
   ]
  },
  {
   "cell_type": "markdown",
   "metadata": {
    "id": "dn9iN6wb0jPU"
   },
   "source": [
    "--- 최종 검증 결과 ---   \n",
    "mAP50-95: 81.42%  \n",
    "mAP50:    92.23%  "
   ]
  },
  {
   "cell_type": "markdown",
   "metadata": {
    "id": "hvjMOdIwonkg"
   },
   "source": [
    "> 실행이 완료되면, 터미널에 mAP 수치가 출력되고, `runs/val/exp` 와 같은 폴더에 `F1_curve.png`, `PR_curve.png`, `confusion_matrix.png` 등의 결과 이미지 파일이 저장됩니다.\n",
    "\n",
    "-----\n",
    "\n",
    "### **4단계: 기본 모델과 학습된 모델의 정확도 비교 시각화**\n",
    "\n",
    "\n",
    " **성능 지표 비교 시각화**:\n",
    "      * 아래 코드로 기본 모델과 학습된 모델의 성능을 막대그래프로 비교합니다.\n",
    "\n",
    "<!-- end list -->"
   ]
  },
  {
   "cell_type": "code",
   "execution_count": null,
   "metadata": {
    "colab": {
     "base_uri": "https://localhost:8080/",
     "height": 1000
    },
    "collapsed": true,
    "executionInfo": {
     "elapsed": 15038,
     "status": "ok",
     "timestamp": 1751531772291,
     "user": {
      "displayName": "k im",
      "userId": "08581733427727695003"
     },
     "user_tz": -540
    },
    "id": "L-hYyhjVonkh",
    "outputId": "7e248264-a2a8-4ede-a3b7-88ce8ec2e20a"
   },
   "outputs": [
    {
     "name": "stdout",
     "output_type": "stream",
     "text": [
      "--- 기본 모델(Baseline) 성능 검증 ---\n",
      "Ultralytics 8.3.161 🚀 Python-3.11.13 torch-2.6.0+cu124 CUDA:0 (Tesla T4, 15095MiB)\n",
      "YOLO11s summary (fused): 100 layers, 9,443,760 parameters, 0 gradients, 21.5 GFLOPs\n",
      "\u001b[34m\u001b[1mval: \u001b[0mFast image access ✅ (ping: 0.4±0.1 ms, read: 19.7±12.2 MB/s, size: 52.4 KB)\n"
     ]
    },
    {
     "name": "stderr",
     "output_type": "stream",
     "text": [
      "\u001b[34m\u001b[1mval: \u001b[0mScanning /content/drive/MyDrive/hackerton/safe/HardHatDetector/valid/labels.cache... 39 images, 2 backgrounds, 0 corrupt: 100%|██████████| 39/39 [00:00<?, ?it/s]\n",
      "                 Class     Images  Instances      Box(P          R      mAP50  mAP50-95): 100%|██████████| 3/3 [00:01<00:00,  1.73it/s]\n"
     ]
    },
    {
     "name": "stdout",
     "output_type": "stream",
     "text": [
      "                   all         39         69     0.0219      0.203     0.0167     0.0113\n",
      "                person         37         69     0.0219      0.203     0.0167     0.0113\n",
      "Speed: 2.2ms preprocess, 19.2ms inference, 0.0ms loss, 6.1ms postprocess per image\n",
      "Results saved to \u001b[1mruns/detect/baseline_validation\u001b[0m\n",
      "베이스라인 모델 mAP50-95: 1.13%\n",
      "\n",
      "--- 2. 훈련된 모델(Fine-tuned) 성능 검증 ---\n",
      "Ultralytics 8.3.161 🚀 Python-3.11.13 torch-2.6.0+cu124 CUDA:0 (Tesla T4, 15095MiB)\n",
      "YOLO11s summary (fused): 100 layers, 9,413,574 parameters, 0 gradients, 21.3 GFLOPs\n",
      "\u001b[34m\u001b[1mval: \u001b[0mFast image access ✅ (ping: 0.5±0.2 ms, read: 32.2±9.1 MB/s, size: 59.0 KB)\n"
     ]
    },
    {
     "name": "stderr",
     "output_type": "stream",
     "text": [
      "\u001b[34m\u001b[1mval: \u001b[0mScanning /content/drive/MyDrive/hackerton/safe/HardHatDetector/valid/labels.cache... 39 images, 2 backgrounds, 0 corrupt: 100%|██████████| 39/39 [00:00<?, ?it/s]\n",
      "                 Class     Images  Instances      Box(P          R      mAP50  mAP50-95): 100%|██████████| 3/3 [00:02<00:00,  1.14it/s]\n"
     ]
    },
    {
     "name": "stdout",
     "output_type": "stream",
     "text": [
      "                   all         39         69      0.953      0.826      0.922      0.814\n",
      "                helmet         37         69      0.953      0.826      0.922      0.814\n",
      "Speed: 24.6ms preprocess, 12.2ms inference, 0.0ms loss, 4.9ms postprocess per image\n",
      "Results saved to \u001b[1mruns/detect/finetuned_validation\u001b[0m\n",
      "훈련된 모델 mAP50-95: 81.42%\n",
      "\n",
      "--- 성능 비교 시각화 ---\n"
     ]
    },
    {
     "data": {
      "image/png": "[encoded data removed]",
      "text/plain": [
       "<Figure size 800x600 with 1 Axes>"
      ]
     },
     "metadata": {},
     "output_type": "display_data"
    }
   ],
   "source": [
    "\"\"\"\n",
    "# 기본 yolov11s 모델과 훈련된 yolo 모델의 성능 비교\n",
    "\"\"\"\n",
    "print(\"--- 1, 기본 모델(Baseline) 성능 검증 ---\")\n",
    "try:\n",
    "    # (1-1) 검증에 사용할 기본 모델을 로드\n",
    "    baseline_model = YOLO('/content/drive/MyDrive/hackerton/safe/HardHatDetector/ptModel/yolo11s.pt')\n",
    "\n",
    "    # (1-2) .val() 메소드를 호출하여 검증을 수행하고, 결과를 metrics 객체로 받습니다.\n",
    "    baseline_metrics = baseline_model.val(\n",
    "        data=CUSTOM_YAML_PATH,\n",
    "        imgsz=640,\n",
    "        name='baseline_validation' # 결과 저장 폴더 이름 지정\n",
    "    )\n",
    "\n",
    "    # (1-3) 주요 성능 지표를 저장합니다.\n",
    "    baseline_map50_95 = baseline_metrics.box.map\n",
    "    print(f\"베이스라인 모델 mAP50-95: {baseline_map50_95 * 100:.2f}%\")\n",
    "\n",
    "except Exception as e:\n",
    "    print(f\"기본 모델 검증 중 오류 발생: {e}\")\n",
    "    baseline_map50_95 = 0.0 # 오류 발생 시 0으로 처리\n",
    "\n",
    "\n",
    "print(\"\\n--- 2. 훈련된 모델(Fine-tuned) 성능 검증 ---\")\n",
    "try:\n",
    "    # (2-1) 가장 성능이 좋았던, 직접 훈련시킨 모델을 로드합니다.\n",
    "    finetuned_model = YOLO(best_model_path)\n",
    "\n",
    "    # (2-2) 동일한 검증 데이터셋으로 성능을 평가합니다.\n",
    "    finetuned_metrics = finetuned_model.val(\n",
    "        data=CUSTOM_YAML_PATH,\n",
    "        imgsz=640,\n",
    "        name='finetuned_validation'\n",
    "    )\n",
    "\n",
    "    # (2-3) 주요 성능 지표를 저장합니다.\n",
    "    finetuned_map50_95 = finetuned_metrics.box.map\n",
    "    print(f\"훈련된 모델 mAP50-95: {finetuned_map50_95 * 100:.2f}%\")\n",
    "\n",
    "except Exception as e:\n",
    "    print(f\"훈련된 모델 검증 중 오류 발생: {e}\")\n",
    "    finetuned_map50_95 = 0.0\n",
    "\n",
    "\n",
    "# --- 3. 성능 비교 시각화 ---\n",
    "print(\"\\n--- 3. 성능 비교 시각화 ---\")\n",
    "\n",
    "models = ['Baseline (yolov11s)', 'Fine-tuned Model']\n",
    "maps = [baseline_map50_95, finetuned_map50_95]\n",
    "\n",
    "plt.figure(figsize=(8, 6))\n",
    "bars = plt.bar(models, maps, color=['#ff9999', '#66b3ff'])\n",
    "plt.ylabel('mAP@.5:.95')\n",
    "plt.title('Baseline vs. Fine-tuned Model Performance')\n",
    "plt.ylim(0, 1.0)\n",
    "\n",
    "# 막대 위에 값 표시\n",
    "for bar in bars:\n",
    "    yval = bar.get_height()\n",
    "    plt.text(bar.get_x() + bar.get_width()/2.0, yval, f'{yval:.4f}', va='bottom', ha='center')\n",
    "\n",
    "plt.show()\n"
   ]
  },
  {
   "cell_type": "code",
   "execution_count": null,
   "metadata": {
    "colab": {
     "base_uri": "https://localhost:8080/"
    },
    "executionInfo": {
     "elapsed": 127,
     "status": "ok",
     "timestamp": 1751532245903,
     "user": {
      "displayName": "k im",
      "userId": "08581733427727695003"
     },
     "user_tz": -540
    },
    "id": "urTz6mBxc-GO",
    "outputId": "2943bc38-0596-469c-8f72-2b4905e68608"
   },
   "outputs": [
    {
     "name": "stdout",
     "output_type": "stream",
     "text": [
      "<class 'dict'> 2\n",
      "{0: 'helmet', 1: 'no-helmet'}\n"
     ]
    }
   ],
   "source": [
    "# 모델 특징 확인\n",
    "finetuned_model = YOLO(best_model_path)\n",
    "print(type(finetuned_model.names), len(finetuned_model.names))\n",
    "\n",
    "print(finetuned_model.names)"
   ]
  },
  {
   "cell_type": "markdown",
   "metadata": {
    "id": "7sl6Ja2WpJ_X"
   },
   "source": [
    "-----\n",
    "### **5단계: 훈련된 pt 모델을 tflite 파일로 변환하고, 성능을 비교합니다.  "
   ]
  },
  {
   "cell_type": "code",
   "execution_count": 10,
   "metadata": {
    "colab": {
     "base_uri": "https://localhost:8080/"
    },
    "collapsed": true,
    "executionInfo": {
     "elapsed": 52923,
     "status": "ok",
     "timestamp": 1751617991110,
     "user": {
      "displayName": "k im",
      "userId": "08581733427727695003"
     },
     "user_tz": -540
    },
    "id": "apMmD1J6dYUl",
    "outputId": "c306f848-73cd-48f3-ee84-ce53e5c10516"
   },
   "outputs": [
    {
     "name": "stdout",
     "output_type": "stream",
     "text": [
      "모델 로드 완료: /content/drive/MyDrive/hackerton/safe/HardHatDetector/yolo_results/helmet_detection_run_with_augmentation/weights/best.pt\n",
      "Ultralytics 8.3.162 🚀 Python-3.11.13 torch-2.6.0+cu124 CPU (Intel Xeon 2.20GHz)\n",
      "YOLO11s summary (fused): 100 layers, 9,413,574 parameters, 0 gradients, 21.3 GFLOPs\n",
      "\n",
      "\u001b[34m\u001b[1mPyTorch:\u001b[0m starting from '/content/drive/MyDrive/hackerton/safe/HardHatDetector/yolo_results/helmet_detection_run_with_augmentation/weights/best.pt' with input shape (1, 3, 640, 640) BCHW and output shape(s) (1, 6, 8400) (18.3 MB)\n",
      "\u001b[31m\u001b[1mrequirements:\u001b[0m Ultralytics requirements ['sng4onnx>=1.0.1', 'onnx_graphsurgeon>=0.3.26', 'ai-edge-litert>=1.2.0,<1.4.0'] not found, attempting AutoUpdate...\n",
      "\n",
      "\u001b[31m\u001b[1mrequirements:\u001b[0m AutoUpdate success ✅ 5.3s\n",
      "WARNING ⚠️ \u001b[31m\u001b[1mrequirements:\u001b[0m \u001b[1mRestart runtime or rerun command for updates to take effect\u001b[0m\n",
      "\n",
      "\n",
      "\u001b[34m\u001b[1mTensorFlow SavedModel:\u001b[0m starting export with tensorflow 2.19.0...\n",
      "Downloading https://github.com/ultralytics/assets/releases/download/v8.3.0/calibration_image_sample_data_20x128x128x3_float32.npy.zip to 'calibration_image_sample_data_20x128x128x3_float32.npy.zip'...\n"
     ]
    },
    {
     "name": "stderr",
     "output_type": "stream",
     "text": [
      "100%|██████████| 1.11M/1.11M [00:00<00:00, 173MB/s]\n",
      "Unzipping calibration_image_sample_data_20x128x128x3_float32.npy.zip to /content/calibration_image_sample_data_20x128x128x3_float32.npy...: 100%|██████████| 1/1 [00:00<00:00, 32.32file/s]"
     ]
    },
    {
     "name": "stdout",
     "output_type": "stream",
     "text": [
      "\n",
      "\u001b[34m\u001b[1mONNX:\u001b[0m starting export with onnx 1.17.0 opset 19...\n"
     ]
    },
    {
     "name": "stderr",
     "output_type": "stream",
     "text": [
      "\n"
     ]
    },
    {
     "name": "stdout",
     "output_type": "stream",
     "text": [
      "\u001b[34m\u001b[1mONNX:\u001b[0m slimming with onnxslim 0.1.58...\n",
      "\u001b[34m\u001b[1mONNX:\u001b[0m export success ✅ 3.4s, saved as '/content/drive/MyDrive/hackerton/safe/HardHatDetector/yolo_results/helmet_detection_run_with_augmentation/weights/best.onnx' (36.3 MB)\n",
      "\u001b[34m\u001b[1mTensorFlow SavedModel:\u001b[0m starting TFLite export with onnx2tf 1.28.0...\n",
      "Saved artifact at '/content/drive/MyDrive/hackerton/safe/HardHatDetector/yolo_results/helmet_detection_run_with_augmentation/weights/best_saved_model'. The following endpoints are available:\n",
      "\n",
      "* Endpoint 'serving_default'\n",
      "  inputs_0 (POSITIONAL_ONLY): TensorSpec(shape=(1, 640, 640, 3), dtype=tf.float32, name='images')\n",
      "Output Type:\n",
      "  TensorSpec(shape=(1, 6, 8400), dtype=tf.float32, name=None)\n",
      "Captures:\n",
      "  133937791918992: TensorSpec(shape=(4, 2), dtype=tf.int32, name=None)\n",
      "  133937791918800: TensorSpec(shape=(3, 3, 3, 32), dtype=tf.float32, name=None)\n",
      "  133937791919376: TensorSpec(shape=(32,), dtype=tf.float32, name=None)\n",
      "  133937791922832: TensorSpec(shape=(4, 2), dtype=tf.int32, name=None)\n",
      "  133937791918416: TensorSpec(shape=(3, 3, 32, 64), dtype=tf.float32, name=None)\n",
      "  133937791923600: TensorSpec(shape=(64,), dtype=tf.float32, name=None)\n",
      "  133937791923408: TensorSpec(shape=(1, 1, 64, 64), dtype=tf.float32, name=None)\n",
      "  133937791923984: TensorSpec(shape=(64,), dtype=tf.float32, name=None)\n",
      "  133937791923792: TensorSpec(shape=(4,), dtype=tf.int64, name=None)\n",
      "  133937791922448: TensorSpec(shape=(4,), dtype=tf.int64, name=None)\n",
      "  133937791926096: TensorSpec(shape=(3, 3, 32, 16), dtype=tf.float32, name=None)\n",
      "  133937791924176: TensorSpec(shape=(16,), dtype=tf.float32, name=None)\n",
      "  133937791925328: TensorSpec(shape=(3, 3, 16, 32), dtype=tf.float32, name=None)\n",
      "  133937791925712: TensorSpec(shape=(32,), dtype=tf.float32, name=None)\n",
      "  133937791924560: TensorSpec(shape=(4,), dtype=tf.int64, name=None)\n",
      "  133937791924752: TensorSpec(shape=(4,), dtype=tf.int64, name=None)\n",
      "  133937791925904: TensorSpec(shape=(1, 1, 96, 128), dtype=tf.float32, name=None)\n",
      "  133937791924368: TensorSpec(shape=(128,), dtype=tf.float32, name=None)\n",
      "  133937782899536: TensorSpec(shape=(4, 2), dtype=tf.int32, name=None)\n",
      "  133937782899920: TensorSpec(shape=(3, 3, 128, 128), dtype=tf.float32, name=None)\n",
      "  133937782899728: TensorSpec(shape=(128,), dtype=tf.float32, name=None)\n",
      "  133937782900496: TensorSpec(shape=(1, 1, 128, 128), dtype=tf.float32, name=None)\n",
      "  133937782900304: TensorSpec(shape=(128,), dtype=tf.float32, name=None)\n",
      "  133937782901072: TensorSpec(shape=(4,), dtype=tf.int64, name=None)\n",
      "  133937782900880: TensorSpec(shape=(4,), dtype=tf.int64, name=None)\n",
      "  133937782901840: TensorSpec(shape=(3, 3, 64, 32), dtype=tf.float32, name=None)\n",
      "  133937782903184: TensorSpec(shape=(32,), dtype=tf.float32, name=None)\n",
      "  133937782900688: TensorSpec(shape=(3, 3, 32, 64), dtype=tf.float32, name=None)\n",
      "  133937782900112: TensorSpec(shape=(64,), dtype=tf.float32, name=None)\n",
      "  133937782901264: TensorSpec(shape=(4,), dtype=tf.int64, name=None)\n",
      "  133937782901456: TensorSpec(shape=(4,), dtype=tf.int64, name=None)\n",
      "  133937782903376: TensorSpec(shape=(1, 1, 192, 256), dtype=tf.float32, name=None)\n",
      "  133937782903568: TensorSpec(shape=(256,), dtype=tf.float32, name=None)\n",
      "  133937782902608: TensorSpec(shape=(4, 2), dtype=tf.int32, name=None)\n",
      "  133937782902032: TensorSpec(shape=(3, 3, 256, 256), dtype=tf.float32, name=None)\n",
      "  133937782902416: TensorSpec(shape=(256,), dtype=tf.float32, name=None)\n",
      "  133937782903760: TensorSpec(shape=(1, 1, 256, 256), dtype=tf.float32, name=None)\n",
      "  133937782904144: TensorSpec(shape=(256,), dtype=tf.float32, name=None)\n",
      "  133937782904720: TensorSpec(shape=(4,), dtype=tf.int64, name=None)\n",
      "  133937782904528: TensorSpec(shape=(4,), dtype=tf.int64, name=None)\n",
      "  133937782905488: TensorSpec(shape=(1, 1, 128, 64), dtype=tf.float32, name=None)\n",
      "  133937782906832: TensorSpec(shape=(64,), dtype=tf.float32, name=None)\n",
      "  133937782907216: TensorSpec(shape=(3, 3, 64, 64), dtype=tf.float32, name=None)\n",
      "  133937782907024: TensorSpec(shape=(64,), dtype=tf.float32, name=None)\n",
      "  133937782903952: TensorSpec(shape=(3, 3, 64, 64), dtype=tf.float32, name=None)\n",
      "  133937782906256: TensorSpec(shape=(64,), dtype=tf.float32, name=None)\n",
      "  133937782907600: TensorSpec(shape=(3, 3, 64, 64), dtype=tf.float32, name=None)\n",
      "  133937782907984: TensorSpec(shape=(64,), dtype=tf.float32, name=None)\n",
      "  133937782908176: TensorSpec(shape=(3, 3, 64, 64), dtype=tf.float32, name=None)\n",
      "  133937782904336: TensorSpec(shape=(1, 1, 128, 64), dtype=tf.float32, name=None)\n",
      "  133937782906064: TensorSpec(shape=(64,), dtype=tf.float32, name=None)\n",
      "  133937782905680: TensorSpec(shape=(64,), dtype=tf.float32, name=None)\n",
      "  133937782908368: TensorSpec(shape=(1, 1, 128, 128), dtype=tf.float32, name=None)\n",
      "  133937782907792: TensorSpec(shape=(128,), dtype=tf.float32, name=None)\n",
      "  133937782904912: TensorSpec(shape=(4,), dtype=tf.int64, name=None)\n",
      "  133937782905104: TensorSpec(shape=(4,), dtype=tf.int64, name=None)\n",
      "  133937782908752: TensorSpec(shape=(1, 1, 384, 256), dtype=tf.float32, name=None)\n",
      "  133937782907408: TensorSpec(shape=(256,), dtype=tf.float32, name=None)\n",
      "  133937782909136: TensorSpec(shape=(4, 2), dtype=tf.int32, name=None)\n",
      "  133937782908944: TensorSpec(shape=(3, 3, 256, 512), dtype=tf.float32, name=None)\n",
      "  133937782908560: TensorSpec(shape=(512,), dtype=tf.float32, name=None)\n",
      "  133937782909328: TensorSpec(shape=(1, 1, 512, 512), dtype=tf.float32, name=None)\n",
      "  133937782909712: TensorSpec(shape=(512,), dtype=tf.float32, name=None)\n",
      "  133937782910288: TensorSpec(shape=(4,), dtype=tf.int64, name=None)\n",
      "  133937782910096: TensorSpec(shape=(4,), dtype=tf.int64, name=None)\n",
      "  133937782911056: TensorSpec(shape=(1, 1, 256, 128), dtype=tf.float32, name=None)\n",
      "  133937782912400: TensorSpec(shape=(128,), dtype=tf.float32, name=None)\n",
      "  133937782912784: TensorSpec(shape=(3, 3, 128, 128), dtype=tf.float32, name=None)\n",
      "  133937782912592: TensorSpec(shape=(128,), dtype=tf.float32, name=None)\n",
      "  133937782909520: TensorSpec(shape=(3, 3, 128, 128), dtype=tf.float32, name=None)\n",
      "  133937782911824: TensorSpec(shape=(128,), dtype=tf.float32, name=None)\n",
      "  133937782913168: TensorSpec(shape=(3, 3, 128, 128), dtype=tf.float32, name=None)\n",
      "  133937782913360: TensorSpec(shape=(128,), dtype=tf.float32, name=None)\n",
      "  133937782911632: TensorSpec(shape=(3, 3, 128, 128), dtype=tf.float32, name=None)\n",
      "  133937782909904: TensorSpec(shape=(1, 1, 256, 128), dtype=tf.float32, name=None)\n",
      "  133937782913552: TensorSpec(shape=(128,), dtype=tf.float32, name=None)\n",
      "  133937782911248: TensorSpec(shape=(128,), dtype=tf.float32, name=None)\n",
      "  133937782914128: TensorSpec(shape=(1, 1, 256, 256), dtype=tf.float32, name=None)\n",
      "  133937782913936: TensorSpec(shape=(256,), dtype=tf.float32, name=None)\n",
      "  133937782910480: TensorSpec(shape=(4,), dtype=tf.int64, name=None)\n",
      "  133937782910672: TensorSpec(shape=(4,), dtype=tf.int64, name=None)\n",
      "  133937782914320: TensorSpec(shape=(1, 1, 768, 512), dtype=tf.float32, name=None)\n",
      "  133937782912976: TensorSpec(shape=(512,), dtype=tf.float32, name=None)\n",
      "  133937782913744: TensorSpec(shape=(1, 1, 512, 256), dtype=tf.float32, name=None)\n",
      "  133937782914896: TensorSpec(shape=(256,), dtype=tf.float32, name=None)\n",
      "  133937782914512: TensorSpec(shape=(1, 1, 1024, 512), dtype=tf.float32, name=None)\n",
      "  133937782914704: TensorSpec(shape=(512,), dtype=tf.float32, name=None)\n",
      "  133937702175760: TensorSpec(shape=(1, 1, 512, 512), dtype=tf.float32, name=None)\n",
      "  133937702174800: TensorSpec(shape=(512,), dtype=tf.float32, name=None)\n",
      "  133937702175568: TensorSpec(shape=(1, 1, 256, 512), dtype=tf.float32, name=None)\n",
      "  133937702174992: TensorSpec(shape=(512,), dtype=tf.float32, name=None)\n",
      "  133937702175376: TensorSpec(shape=(), dtype=tf.resource, name=None)\n",
      "  133937702177872: TensorSpec(shape=(256,), dtype=tf.float32, name=None)\n",
      "  133937702181520: TensorSpec(shape=(1, 1, 256, 256), dtype=tf.float32, name=None)\n",
      "  133937702179984: TensorSpec(shape=(256,), dtype=tf.float32, name=None)\n",
      "  133937702179408: TensorSpec(shape=(1, 1, 256, 512), dtype=tf.float32, name=None)\n",
      "  133937702179600: TensorSpec(shape=(512,), dtype=tf.float32, name=None)\n",
      "  133937702179216: TensorSpec(shape=(1, 1, 512, 256), dtype=tf.float32, name=None)\n",
      "  133937702179024: TensorSpec(shape=(256,), dtype=tf.float32, name=None)\n",
      "  133937702180176: TensorSpec(shape=(1, 1, 512, 512), dtype=tf.float32, name=None)\n",
      "  133937702177104: TensorSpec(shape=(512,), dtype=tf.float32, name=None)\n",
      "  133937702180560: TensorSpec(shape=(1, 1, 768, 256), dtype=tf.float32, name=None)\n",
      "  133937702175952: TensorSpec(shape=(256,), dtype=tf.float32, name=None)\n",
      "  133937702181328: TensorSpec(shape=(4,), dtype=tf.int64, name=None)\n",
      "  133937702180368: TensorSpec(shape=(4,), dtype=tf.int64, name=None)\n",
      "  133937702181712: TensorSpec(shape=(3, 3, 128, 64), dtype=tf.float32, name=None)\n",
      "  133937702183056: TensorSpec(shape=(64,), dtype=tf.float32, name=None)\n",
      "  133937702180944: TensorSpec(shape=(3, 3, 64, 128), dtype=tf.float32, name=None)\n",
      "  133937702180752: TensorSpec(shape=(128,), dtype=tf.float32, name=None)\n",
      "  133937702178832: TensorSpec(shape=(4,), dtype=tf.int64, name=None)\n",
      "  133937702181136: TensorSpec(shape=(4,), dtype=tf.int64, name=None)\n",
      "  133937702183632: TensorSpec(shape=(1, 1, 384, 256), dtype=tf.float32, name=None)\n",
      "  133937702183440: TensorSpec(shape=(256,), dtype=tf.float32, name=None)\n",
      "  133937702183248: TensorSpec(shape=(1, 1, 512, 128), dtype=tf.float32, name=None)\n",
      "  133937702184016: TensorSpec(shape=(128,), dtype=tf.float32, name=None)\n",
      "  133937702183824: TensorSpec(shape=(4,), dtype=tf.int64, name=None)\n",
      "  133937702182288: TensorSpec(shape=(4,), dtype=tf.int64, name=None)\n",
      "  133937702184784: TensorSpec(shape=(3, 3, 64, 32), dtype=tf.float32, name=None)\n",
      "  133937702186128: TensorSpec(shape=(32,), dtype=tf.float32, name=None)\n",
      "  133937702182480: TensorSpec(shape=(3, 3, 32, 64), dtype=tf.float32, name=None)\n",
      "  133937702184208: TensorSpec(shape=(64,), dtype=tf.float32, name=None)\n",
      "  133937702181904: TensorSpec(shape=(4,), dtype=tf.int64, name=None)\n",
      "  133937702184400: TensorSpec(shape=(4,), dtype=tf.int64, name=None)\n",
      "  133937702186320: TensorSpec(shape=(1, 1, 192, 128), dtype=tf.float32, name=None)\n",
      "  133937702186512: TensorSpec(shape=(128,), dtype=tf.float32, name=None)\n",
      "  133937702185552: TensorSpec(shape=(4, 2), dtype=tf.int32, name=None)\n",
      "  133937702184976: TensorSpec(shape=(3, 3, 128, 128), dtype=tf.float32, name=None)\n",
      "  133937702185360: TensorSpec(shape=(128,), dtype=tf.float32, name=None)\n",
      "  133937702188240: TensorSpec(shape=(1, 1, 384, 256), dtype=tf.float32, name=None)\n",
      "  133937702188432: TensorSpec(shape=(256,), dtype=tf.float32, name=None)\n",
      "  133937702189008: TensorSpec(shape=(4,), dtype=tf.int64, name=None)\n",
      "  133937702189776: TensorSpec(shape=(4,), dtype=tf.int64, name=None)\n",
      "  133937702190928: TensorSpec(shape=(3, 3, 128, 64), dtype=tf.float32, name=None)\n",
      "  133937702189968: TensorSpec(shape=(64,), dtype=tf.float32, name=None)\n",
      "  133937702190736: TensorSpec(shape=(3, 3, 64, 128), dtype=tf.float32, name=None)\n",
      "  133937660085648: TensorSpec(shape=(128,), dtype=tf.float32, name=None)\n",
      "  133937702190160: TensorSpec(shape=(4,), dtype=tf.int64, name=None)\n",
      "  133937702190352: TensorSpec(shape=(4,), dtype=tf.int64, name=None)\n",
      "  133937660086608: TensorSpec(shape=(1, 1, 384, 256), dtype=tf.float32, name=None)\n",
      "  133937660088336: TensorSpec(shape=(256,), dtype=tf.float32, name=None)\n",
      "  133937660087184: TensorSpec(shape=(4, 2), dtype=tf.int32, name=None)\n",
      "  133937660086800: TensorSpec(shape=(3, 3, 256, 256), dtype=tf.float32, name=None)\n",
      "  133937660086416: TensorSpec(shape=(256,), dtype=tf.float32, name=None)\n",
      "  133937660085840: TensorSpec(shape=(1, 1, 768, 512), dtype=tf.float32, name=None)\n",
      "  133937660087952: TensorSpec(shape=(512,), dtype=tf.float32, name=None)\n",
      "  133937660088912: TensorSpec(shape=(4,), dtype=tf.int64, name=None)\n",
      "  133937660089680: TensorSpec(shape=(4,), dtype=tf.int64, name=None)\n",
      "  133937660091984: TensorSpec(shape=(1, 1, 256, 128), dtype=tf.float32, name=None)\n",
      "  133937660089488: TensorSpec(shape=(128,), dtype=tf.float32, name=None)\n",
      "  133937660092560: TensorSpec(shape=(3, 3, 128, 128), dtype=tf.float32, name=None)\n",
      "  133937660092176: TensorSpec(shape=(128,), dtype=tf.float32, name=None)\n",
      "  133937702177680: TensorSpec(shape=(3, 3, 128, 128), dtype=tf.float32, name=None)\n",
      "  133937823409424: TensorSpec(shape=(128,), dtype=tf.float32, name=None)\n",
      "  133937823410192: TensorSpec(shape=(3, 3, 128, 128), dtype=tf.float32, name=None)\n",
      "  133937791913040: TensorSpec(shape=(128,), dtype=tf.float32, name=None)\n",
      "  133937791913616: TensorSpec(shape=(3, 3, 128, 128), dtype=tf.float32, name=None)\n",
      "  133937660090832: TensorSpec(shape=(1, 1, 256, 128), dtype=tf.float32, name=None)\n",
      "  133937791913808: TensorSpec(shape=(128,), dtype=tf.float32, name=None)\n",
      "  133937660090640: TensorSpec(shape=(128,), dtype=tf.float32, name=None)\n",
      "  133937791913424: TensorSpec(shape=(1, 1, 256, 256), dtype=tf.float32, name=None)\n",
      "  133937791914576: TensorSpec(shape=(256,), dtype=tf.float32, name=None)\n",
      "  133937660090064: TensorSpec(shape=(4,), dtype=tf.int64, name=None)\n",
      "  133937660090256: TensorSpec(shape=(4,), dtype=tf.int64, name=None)\n",
      "  133937791914000: TensorSpec(shape=(1, 1, 768, 512), dtype=tf.float32, name=None)\n",
      "  133937791914384: TensorSpec(shape=(512,), dtype=tf.float32, name=None)\n",
      "  133937660092752: TensorSpec(shape=(3, 3, 512, 1), dtype=tf.float32, name=None)\n",
      "  133937660087568: TensorSpec(shape=(3, 3, 256, 1), dtype=tf.float32, name=None)\n",
      "  133937702187472: TensorSpec(shape=(3, 3, 128, 1), dtype=tf.float32, name=None)\n",
      "  133937791919184: TensorSpec(shape=(512,), dtype=tf.float32, name=None)\n",
      "  133937660085456: TensorSpec(shape=(256,), dtype=tf.float32, name=None)\n",
      "  133937702187088: TensorSpec(shape=(128,), dtype=tf.float32, name=None)\n",
      "  133937660092944: TensorSpec(shape=(1, 1, 512, 128), dtype=tf.float32, name=None)\n",
      "  133937660086032: TensorSpec(shape=(1, 1, 256, 128), dtype=tf.float32, name=None)\n",
      "  133937702187856: TensorSpec(shape=(1, 1, 128, 128), dtype=tf.float32, name=None)\n",
      "  133937660093328: TensorSpec(shape=(128,), dtype=tf.float32, name=None)\n",
      "  133937660086992: TensorSpec(shape=(128,), dtype=tf.float32, name=None)\n",
      "  133937702187280: TensorSpec(shape=(128,), dtype=tf.float32, name=None)\n",
      "  133937660094864: TensorSpec(shape=(3, 3, 128, 1), dtype=tf.float32, name=None)\n",
      "  133937791914768: TensorSpec(shape=(3, 3, 512, 64), dtype=tf.float32, name=None)\n",
      "  133937660089296: TensorSpec(shape=(3, 3, 128, 1), dtype=tf.float32, name=None)\n",
      "  133937660087760: TensorSpec(shape=(3, 3, 256, 64), dtype=tf.float32, name=None)\n",
      "  133937702189392: TensorSpec(shape=(3, 3, 128, 1), dtype=tf.float32, name=None)\n",
      "  133937702186704: TensorSpec(shape=(3, 3, 128, 64), dtype=tf.float32, name=None)\n",
      "  133937660093712: TensorSpec(shape=(128,), dtype=tf.float32, name=None)\n",
      "  133937791914192: TensorSpec(shape=(64,), dtype=tf.float32, name=None)\n",
      "  133937660088528: TensorSpec(shape=(128,), dtype=tf.float32, name=None)\n",
      "  133937660086224: TensorSpec(shape=(64,), dtype=tf.float32, name=None)\n",
      "  133937702188624: TensorSpec(shape=(128,), dtype=tf.float32, name=None)\n",
      "  133937702186896: TensorSpec(shape=(64,), dtype=tf.float32, name=None)\n",
      "  133937660095248: TensorSpec(shape=(1, 1, 128, 128), dtype=tf.float32, name=None)\n",
      "  133937660093520: TensorSpec(shape=(3, 3, 64, 64), dtype=tf.float32, name=None)\n",
      "  133937660089872: TensorSpec(shape=(1, 1, 128, 128), dtype=tf.float32, name=None)\n",
      "  133937660087376: TensorSpec(shape=(3, 3, 64, 64), dtype=tf.float32, name=None)\n",
      "  133937702190544: TensorSpec(shape=(1, 1, 128, 128), dtype=tf.float32, name=None)\n",
      "  133937702187664: TensorSpec(shape=(3, 3, 64, 64), dtype=tf.float32, name=None)\n",
      "  133937660094672: TensorSpec(shape=(128,), dtype=tf.float32, name=None)\n",
      "  133937660093136: TensorSpec(shape=(64,), dtype=tf.float32, name=None)\n",
      "  133937660091216: TensorSpec(shape=(128,), dtype=tf.float32, name=None)\n",
      "  133937660088144: TensorSpec(shape=(64,), dtype=tf.float32, name=None)\n",
      "  133937702189584: TensorSpec(shape=(128,), dtype=tf.float32, name=None)\n",
      "  133937702188048: TensorSpec(shape=(64,), dtype=tf.float32, name=None)\n",
      "  133937660095440: TensorSpec(shape=(1, 1, 128, 2), dtype=tf.float32, name=None)\n",
      "  133937660094096: TensorSpec(shape=(1, 1, 64, 64), dtype=tf.float32, name=None)\n",
      "  133937660092368: TensorSpec(shape=(1, 1, 128, 2), dtype=tf.float32, name=None)\n",
      "  133937660089104: TensorSpec(shape=(1, 1, 64, 64), dtype=tf.float32, name=None)\n",
      "  133937660084688: TensorSpec(shape=(1, 1, 128, 2), dtype=tf.float32, name=None)\n",
      "  133937702189200: TensorSpec(shape=(1, 1, 64, 64), dtype=tf.float32, name=None)\n",
      "  133937660094288: TensorSpec(shape=(64,), dtype=tf.float32, name=None)\n",
      "  133937660095632: TensorSpec(shape=(2,), dtype=tf.float32, name=None)\n",
      "  133937660088720: TensorSpec(shape=(64,), dtype=tf.float32, name=None)\n",
      "  133937660091408: TensorSpec(shape=(2,), dtype=tf.float32, name=None)\n",
      "  133937702188816: TensorSpec(shape=(64,), dtype=tf.float32, name=None)\n",
      "  133937660085264: TensorSpec(shape=(2,), dtype=tf.float32, name=None)\n",
      "  133937660096976: TensorSpec(shape=(3,), dtype=tf.int64, name=None)\n",
      "  133937660096208: TensorSpec(shape=(3,), dtype=tf.int64, name=None)\n",
      "  133937660097936: TensorSpec(shape=(1, 1, 16, 1), dtype=tf.float32, name=None)\n",
      "  133937660097168: TensorSpec(shape=(1, 4, 8400), dtype=tf.float32, name=None)\n",
      "  133937660099280: TensorSpec(shape=(3,), dtype=tf.int64, name=None)\n",
      "  133937660100432: TensorSpec(shape=(3,), dtype=tf.int64, name=None)\n",
      "  133937660093904: TensorSpec(shape=(3,), dtype=tf.int64, name=None)\n",
      "  133937660099856: TensorSpec(shape=(3,), dtype=tf.int64, name=None)\n",
      "  133937660099472: TensorSpec(shape=(1, 2, 8400), dtype=tf.float32, name=None)\n",
      "  133937660097744: TensorSpec(shape=(1, 2, 8400), dtype=tf.float32, name=None)\n",
      "  133937660096592: TensorSpec(shape=(3,), dtype=tf.int64, name=None)\n",
      "  133937660097552: TensorSpec(shape=(3,), dtype=tf.int64, name=None)\n",
      "\u001b[34m\u001b[1mTensorFlow SavedModel:\u001b[0m export success ✅ 51.0s, saved as '/content/drive/MyDrive/hackerton/safe/HardHatDetector/yolo_results/helmet_detection_run_with_augmentation/weights/best_saved_model' (90.9 MB)\n",
      "\n",
      "\u001b[34m\u001b[1mTensorFlow Lite:\u001b[0m starting export with tensorflow 2.19.0...\n",
      "\u001b[34m\u001b[1mTensorFlow Lite:\u001b[0m export success ✅ 0.0s, saved as '/content/drive/MyDrive/hackerton/safe/HardHatDetector/yolo_results/helmet_detection_run_with_augmentation/weights/best_saved_model/best_float32.tflite' (36.2 MB)\n",
      "\n",
      "Export complete (52.8s)\n",
      "Results saved to \u001b[1m/content/drive/MyDrive/hackerton/safe/HardHatDetector/yolo_results/helmet_detection_run_with_augmentation/weights\u001b[0m\n",
      "Predict:         yolo predict task=detect model=/content/drive/MyDrive/hackerton/safe/HardHatDetector/yolo_results/helmet_detection_run_with_augmentation/weights/best_saved_model/best_float32.tflite imgsz=640  \n",
      "Validate:        yolo val task=detect model=/content/drive/MyDrive/hackerton/safe/HardHatDetector/yolo_results/helmet_detection_run_with_augmentation/weights/best_saved_model/best_float32.tflite imgsz=640 data=/content/drive/MyDrive/hackerton/safe/HardHatDetector/custom_data.yaml  \n",
      "Visualize:       https://netron.app\n",
      "\n",
      "✅ tflite 모델 변환 성공!\n",
      "저장된 경로: /content/drive/MyDrive/hackerton/safe/HardHatDetector/yolo_results/helmet_detection_run_with_augmentation/weights/best_saved_model/best_float32.tflite\n"
     ]
    }
   ],
   "source": [
    "\"\"\"\n",
    "# 훈련된 모델을 TensorFlow Lite로 변환\n",
    "# pytorch->onnx->tflite 순으로 onnx 포멧을 거쳐 변환됨\n",
    "\"\"\"\n",
    "\n",
    "# pytorch->onnx 변환\n",
    "# --- 1. yolo 모델 경로 설정 ---\n",
    "project_name = \"/content/drive/MyDrive/hackerton/safe/HardHatDetector/yolo_results\"\n",
    "run_name = \"helmet_detection_run_with_augmentation\"\n",
    "\n",
    "# 가장 성능이 좋았던 모델의 .pt 파일 경로\n",
    "best_model_path = f\"{project_name}/{run_name}/weights/best.pt\"\n",
    "\n",
    "try:\n",
    "    # --- 2. 모델 로드 및 onnx 변환 ---\n",
    "    # (2-1) 훈련된 .pt 모델 로드\n",
    "    best_model = YOLO(best_model_path)\n",
    "    print(f\"모델 로드 완료: {best_model_path}\")\n",
    "\n",
    "    # (2-2) onnx로 내보내기\n",
    "    tflite_path = best_model.export(\n",
    "        format='tflite',   # tflite 포맷으로 지정\n",
    "        int8=False,        # INT8(양자화) 대신 float32로 정확도 우선\n",
    "        simplify=True,      # 그래프 최적화\n",
    "        data=CUSTOM_YAML_PATH, # 데이터셋 경로\n",
    "        imgsz=640          # 훈련 시 사용했던 이미지 크기 명시\n",
    "    )\n",
    "\n",
    "    print(\"\\n✅ tflite 모델 변환 성공!\")\n",
    "    print(f\"저장된 경로: {tflite_path}\")\n",
    "\n",
    "except Exception as e:\n",
    "    print(f\"\\n❌ 모델 변환 중 오류 발생: {e}\")"
   ]
  },
  {
   "cell_type": "markdown",
   "metadata": {
    "id": "Oyvk-UuFjxIb"
   },
   "source": [
    "#### 위 방법으로 바로 변환이 실패하고, onnx파일만 생성되는 경우 아래 코드를 실행\n",
    "onnx → TFLite 변환"
   ]
  },
  {
   "cell_type": "code",
   "execution_count": null,
   "metadata": {
    "id": "gBIQEFPuiqIa"
   },
   "outputs": [],
   "source": [
    "!pip install -U onnx2tf\n",
    "\n",
    "# onnx -> tflite 변환\n",
    "# 2. 경로 정의\n",
    "input_onnx_path = \"/content/drive/MyDrive/hackerton/safe/HardHatDetector/yolo_results/helmet_detection_run_with_augmentation/weights/best.onnx\"\n",
    "output_tf_path = \"/content/drive/MyDrive/hackerton/safe/HardHatDetector/yolo_results/helmet_detection_run_with_augmentation/weights/best_saved_model/\"\n",
    "\n",
    "# 3. onnx2tf 변환 (배치 크기 고정, 채널 순서 유지)\n",
    "!onnx2tf -i {input_onnx_path} -o {output_tf_path} -b 1 -kt \"images\""
   ]
  },
  {
   "cell_type": "markdown",
   "metadata": {
    "id": "5fMh0RXvk-GS"
   },
   "source": [
    "### pt 모델과 tflite 모델 성능 비교"
   ]
  },
  {
   "cell_type": "code",
   "execution_count": 19,
   "metadata": {
    "colab": {
     "base_uri": "https://localhost:8080/",
     "height": 1000
    },
    "executionInfo": {
     "elapsed": 53251,
     "status": "ok",
     "timestamp": 1751619141503,
     "user": {
      "displayName": "k im",
      "userId": "08581733427727695003"
     },
     "user_tz": -540
    },
    "id": "OVgotonkmkBW",
    "outputId": "968e3562-2ef6-415e-f734-8af6462a0920"
   },
   "outputs": [
    {
     "name": "stdout",
     "output_type": "stream",
     "text": [
      "WARNING ⚠️ Unable to automatically guess model task, assuming 'task=detect'. Explicitly define task for your model, i.e. 'task=detect', 'segment', 'classify','pose' or 'obb'.\n",
      "--- .pt 모델 성능 평가 ---\n",
      "Ultralytics 8.3.162 🚀 Python-3.11.13 torch-2.6.0+cu124 CPU (Intel Xeon 2.20GHz)\n",
      "YOLO11s summary (fused): 100 layers, 9,413,574 parameters, 0 gradients, 21.3 GFLOPs\n",
      "\u001b[34m\u001b[1mval: \u001b[0mFast image access ✅ (ping: 0.4±0.2 ms, read: 27.7±14.5 MB/s, size: 47.2 KB)\n"
     ]
    },
    {
     "name": "stderr",
     "output_type": "stream",
     "text": [
      "\u001b[34m\u001b[1mval: \u001b[0mScanning /content/drive/MyDrive/hackerton/safe/HardHatDetector/valid/labels.cache... 39 images, 2 backgrounds, 0 corrupt: 100%|██████████| 39/39 [00:00<?, ?it/s]\n",
      "                 Class     Images  Instances      Box(P          R      mAP50  mAP50-95): 100%|██████████| 3/3 [00:27<00:00,  9.22s/it]\n"
     ]
    },
    {
     "name": "stdout",
     "output_type": "stream",
     "text": [
      "                   all         39         69      0.953      0.826      0.922      0.814\n",
      "                helmet         37         69      0.953      0.826      0.922      0.814\n",
      "Speed: 6.5ms preprocess, 688.7ms inference, 0.0ms loss, 0.5ms postprocess per image\n",
      "Results saved to \u001b[1mruns/detect/pt_validation\u001b[0m\n",
      "\n",
      "--- .tflite 모델 성능 평가 ---\n",
      "Ultralytics 8.3.162 🚀 Python-3.11.13 torch-2.6.0+cu124 CPU (Intel Xeon 2.20GHz)\n",
      "Loading /content/drive/MyDrive/hackerton/safe/HardHatDetector/yolo_results/helmet_detection_run_with_augmentation/weights/best_saved_model/best_float16.tflite for TensorFlow Lite inference...\n",
      "Setting batch=1 input of shape (1, 3, 640, 640)\n",
      "\u001b[34m\u001b[1mval: \u001b[0mFast image access ✅ (ping: 0.3±0.1 ms, read: 25.9±6.7 MB/s, size: 51.9 KB)\n"
     ]
    },
    {
     "name": "stderr",
     "output_type": "stream",
     "text": [
      "\u001b[34m\u001b[1mval: \u001b[0mScanning /content/drive/MyDrive/hackerton/safe/HardHatDetector/valid/labels.cache... 39 images, 2 backgrounds, 0 corrupt: 100%|██████████| 39/39 [00:00<?, ?it/s]\n",
      "                 Class     Images  Instances      Box(P          R      mAP50  mAP50-95): 100%|██████████| 39/39 [00:19<00:00,  1.99it/s]\n"
     ]
    },
    {
     "name": "stdout",
     "output_type": "stream",
     "text": [
      "                   all         39         69      0.903      0.807      0.888      0.739\n",
      "                helmet         37         69      0.903      0.807      0.888      0.739\n",
      "Speed: 2.0ms preprocess, 485.9ms inference, 0.0ms loss, 1.3ms postprocess per image\n",
      "Results saved to \u001b[1mruns/detect/tflite_validation\u001b[0m\n"
     ]
    },
    {
     "data": {
      "image/png": "[encoded data removed]",
      "text/plain": [
       "<Figure size 1000x700 with 1 Axes>"
      ]
     },
     "metadata": {},
     "output_type": "display_data"
    }
   ],
   "source": [
    "\"\"\"\n",
    "# 훈련된 yolov11s pt 모델과 tflite 변환 모델 성능 비교\n",
    "\"\"\"\n",
    "# --- 1. 경로 및 모델 로드 ---\n",
    "project_name = \"/content/drive/MyDrive/hackerton/safe/HardHatDetector/yolo_results\"\n",
    "run_name = \"helmet_detection_run_with_augmentation\"\n",
    "CUSTOM_YAML_PATH = '/content/drive/MyDrive/hackerton/safe/HardHatDetector/custom_data.yaml'\n",
    "\n",
    "best_model_path = f\"{project_name}/{run_name}/weights/best.pt\"\n",
    "tflite_model_path = f\"{project_name}/{run_name}/weights/best_saved_model/best_float16.tflite\"\n",
    "\n",
    "# 모델 로드\n",
    "best_model = YOLO(best_model_path)\n",
    "tflite_model = YOLO(tflite_model_path) # YOLO 객체로 TFLite 모델 로드\n",
    "\n",
    "# --- 2. 각 모델 성능 평가 ---\n",
    "print(\"--- .pt 모델 성능 평가 ---\")\n",
    "metrics_pt = best_model.val(data=CUSTOM_YAML_PATH, imgsz=640, name='pt_validation')\n",
    "\n",
    "print(\"\\n--- .tflite 모델 성능 평가 ---\")\n",
    "metrics_tflite = tflite_model.val(data=CUSTOM_YAML_PATH, imgsz=640, name='tflite_validation')\n",
    "\n",
    "# --- 3. 시각화를 위한 데이터 준비 ---\n",
    "labels = ['mAP50-95', 'mAP50', 'Precision', 'Recall']\n",
    "\n",
    "# .pt 모델의 성능 지표 추출\n",
    "pt_scores = [\n",
    "    metrics_pt.box.map,    # mAP50-95\n",
    "    metrics_pt.box.map50,  # mAP50\n",
    "    metrics_pt.box.p[0],   # Precision (전체 클래스 평균)\n",
    "    metrics_pt.box.r[0]    # Recall (전체 클래스 평균)\n",
    "]\n",
    "\n",
    "# .tflite 모델의 성능 지표 추출\n",
    "tflite_scores = [\n",
    "    metrics_tflite.box.map,\n",
    "    metrics_tflite.box.map50,\n",
    "    metrics_tflite.box.p[0],\n",
    "    metrics_tflite.box.r[0]\n",
    "]\n",
    "\n",
    "# --- 4. 시각화 ---\n",
    "x = np.arange(len(labels))  # 라벨의 개수에 맞춰 x축 위치 생성\n",
    "width = 0.35  # 막대그래프 너비\n",
    "\n",
    "fig, ax = plt.subplots(figsize=(10, 7))\n",
    "rects1 = ax.bar(x - width/2, pt_scores, width, label='YOLOv8 .pt')\n",
    "rects2 = ax.bar(x + width/2, tflite_scores, width, label='YOLOv8 .tflite (FP16)')\n",
    "\n",
    "# 레이블, 제목, 눈금 설정\n",
    "ax.set_ylabel('Scores')\n",
    "ax.set_title('YOLOv8 Model Performance Comparison (.pt vs TFLite)')\n",
    "ax.set_xticks(x)\n",
    "ax.set_xticklabels(labels)\n",
    "ax.legend()\n",
    "\n",
    "# 막대 위에 값 표시\n",
    "ax.bar_label(rects1, padding=3, fmt='%.4f')\n",
    "ax.bar_label(rects2, padding=3, fmt='%.4f')\n",
    "\n",
    "fig.tight_layout()\n",
    "plt.show()"
   ]
  }
 ],
 "metadata": {
  "accelerator": "GPU",
  "colab": {
   "collapsed_sections": [
    "Oyvk-UuFjxIb"
   ],
   "gpuType": "T4",
   "provenance": []
  },
  "kernelspec": {
   "display_name": "Python 3",
   "name": "python3"
  }
 },
 "nbformat": 4,
 "nbformat_minor": 0
}
